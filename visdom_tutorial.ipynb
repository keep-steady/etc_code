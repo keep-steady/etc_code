{
 "cells": [
  {
   "cell_type": "markdown",
   "metadata": {},
   "source": [
    "# Visdom Tutorial\n",
    "\n",
    "190508, keep-steady\n",
    "\n",
    "튜토리얼, 현재 버전에 맞게 변형 및 그림 추가\n",
    "\n",
    "- 공식 사이트 : https://github.com/facebookresearch/visdom\n",
    "- 튜토리얼 : https://github.com/GunhoChoi/PyTorch-FastCampus/blob/master/02_Regression%26NN/Visdom_Tutorial.ipynb"
   ]
  },
  {
   "cell_type": "raw",
   "metadata": {},
   "source": [
    "설치\n",
    "> pip install visdom\n",
    "\n",
    "서버 사용시 터미널창에\n",
    "> visdom 을 입력\n",
    "local에서\n",
    "> http://서버주소:defaul_port/ 로 접근 가능\n",
    "> http://192.168.10.228:8097/"
   ]
  },
  {
   "cell_type": "code",
   "execution_count": 32,
   "metadata": {},
   "outputs": [
    {
     "name": "stderr",
     "output_type": "stream",
     "text": [
      "WARNING:root:Setting up a new session...\n"
     ]
    }
   ],
   "source": [
    "# 선언\n",
    "from visdom import Visdom\n",
    "import numpy as np\n",
    "import math\n",
    "import os.path\n",
    "\n",
    "viz = Visdom()"
   ]
  },
  {
   "cell_type": "code",
   "execution_count": null,
   "metadata": {},
   "outputs": [],
   "source": []
  },
  {
   "cell_type": "code",
   "execution_count": 33,
   "metadata": {},
   "outputs": [],
   "source": [
    "# 글 남기기\n",
    "textwindow = viz.text(\"Hello Pytorch\")"
   ]
  },
  {
   "cell_type": "code",
   "execution_count": 34,
   "metadata": {},
   "outputs": [],
   "source": [
    "# 그림 한개\n",
    "image_window = viz.image(\n",
    "    np.random.rand(3,256,256),\n",
    "    opts=dict(\n",
    "        title = \"random\",\n",
    "        caption = \"random noise\"\n",
    "    )\n",
    ")"
   ]
  },
  {
   "cell_type": "code",
   "execution_count": 36,
   "metadata": {},
   "outputs": [],
   "source": [
    "# 그림 여러개\n",
    "images_window = viz.images(\n",
    "    np.random.rand(10,3,64,64),\n",
    "    opts=dict(\n",
    "        title = \"random\",\n",
    "        caption = \"random noise\"\n",
    "    )\n",
    ")"
   ]
  },
  {
   "cell_type": "code",
   "execution_count": 37,
   "metadata": {},
   "outputs": [],
   "source": [
    "Y = np.random.rand(100)\n",
    "scatter_window=viz.scatter(\n",
    "            X=np.random.rand(100, 2),\n",
    "            Y=(Y+1.5).astype(int),\n",
    "            opts=dict(\n",
    "                legend=['Apples', 'Pears'],\n",
    "                xtickmin=0,\n",
    "                xtickmax=2,\n",
    "                xtickstep=0.5,\n",
    "                ytickmin=0,\n",
    "                ytickmax=2,\n",
    "                ytickstep=0.5,\n",
    "                markersymbol='cross-thin-open',\n",
    "            ),\n",
    ")"
   ]
  },
  {
   "cell_type": "markdown",
   "metadata": {},
   "source": [
    "# Update image\n",
    "2018년 초 vis.ipdateTrace() 함수가 없어짐, 대신 update = 'append' or 'replace'로 대체"
   ]
  },
  {
   "cell_type": "code",
   "execution_count": 38,
   "metadata": {},
   "outputs": [],
   "source": [
    "# 그림 업데이트\n",
    "# update - 'append'  : 기존 그림에 추가해서 그리기\n",
    "#        - 'replace' : 기존 그림 지우고 대체하기\n",
    "scatter_window=viz.scatter(X=np.random.rand(50),\n",
    "                           Y=np.random.rand(50),\n",
    "                           win=scatter_window,\n",
    "                           name='bananas',\n",
    "                           update='append'\n",
    "                           )"
   ]
  },
  {
   "cell_type": "code",
   "execution_count": 42,
   "metadata": {},
   "outputs": [],
   "source": [
    "# 그림 업데이트\n",
    "# update - 'append'  : 기존 그림에 추가해서 그리기\n",
    "#        - 'replace' : 기존 그림 지우고 대체하기\n",
    "scatter_window=viz.scatter(X=np.random.rand(50),\n",
    "                           Y=np.random.rand(50),\n",
    "                           win=scatter_window,\n",
    "                           name='bananas',\n",
    "                           update='replace'\n",
    "                           )"
   ]
  },
  {
   "cell_type": "markdown",
   "metadata": {},
   "source": [
    "# 3D Scatter Plot"
   ]
  },
  {
   "cell_type": "code",
   "execution_count": 43,
   "metadata": {},
   "outputs": [
    {
     "data": {
      "text/plain": [
       "'window_3753a22ea69a80'"
      ]
     },
     "execution_count": 43,
     "metadata": {},
     "output_type": "execute_result"
    }
   ],
   "source": [
    "# x 축에 2차원, y축에 1차원을 추가하여 3차원 만듬\n",
    "viz.scatter(\n",
    "    X=np.random.rand(100, 3),\n",
    "    Y=(Y + 1.5).astype(int),\n",
    "    opts=dict(\n",
    "        legend=['Men', 'Women'],\n",
    "        markersize=5,\n",
    "    )\n",
    ")"
   ]
  },
  {
   "cell_type": "markdown",
   "metadata": {},
   "source": [
    "# Bar Plot"
   ]
  },
  {
   "cell_type": "code",
   "execution_count": 44,
   "metadata": {},
   "outputs": [
    {
     "data": {
      "text/plain": [
       "'window_3753a240a867ba'"
      ]
     },
     "execution_count": 44,
     "metadata": {},
     "output_type": "execute_result"
    }
   ],
   "source": [
    "viz.bar(X=np.random.rand(20))"
   ]
  },
  {
   "cell_type": "markdown",
   "metadata": {},
   "source": [
    "# Stacked Bar Plot"
   ]
  },
  {
   "cell_type": "code",
   "execution_count": 45,
   "metadata": {},
   "outputs": [
    {
     "data": {
      "text/plain": [
       "'window_3753a24cf1d738'"
      ]
     },
     "execution_count": 45,
     "metadata": {},
     "output_type": "execute_result"
    }
   ],
   "source": [
    "# 누적 그래프, stacked = True\n",
    "viz.bar(\n",
    "    X=np.abs(np.random.rand(5, 3)),\n",
    "    opts=dict(\n",
    "        stacked=True,\n",
    "        legend=['Facebook', 'Google', 'Twitter'],\n",
    "        rownames=['2012', '2013', '2014', '2015', '2016']\n",
    "    )\n",
    ")"
   ]
  },
  {
   "cell_type": "markdown",
   "metadata": {},
   "source": [
    "# Unstacked Bar Plot"
   ]
  },
  {
   "cell_type": "code",
   "execution_count": 46,
   "metadata": {},
   "outputs": [
    {
     "data": {
      "text/plain": [
       "'window_3753a254927edc'"
      ]
     },
     "execution_count": 46,
     "metadata": {},
     "output_type": "execute_result"
    }
   ],
   "source": [
    "# 비교 그래프, stacked = False\n",
    "viz.bar(\n",
    "    X=np.random.rand(10, 3),\n",
    "    opts=dict(\n",
    "        stacked=False,\n",
    "        legend=['The Netherlands', 'France', 'United States']\n",
    "    )\n",
    ")"
   ]
  },
  {
   "cell_type": "markdown",
   "metadata": {},
   "source": [
    "# Contour Map & Surface"
   ]
  },
  {
   "cell_type": "code",
   "execution_count": 47,
   "metadata": {},
   "outputs": [
    {
     "data": {
      "text/plain": [
       "'window_3753a25cf380b8'"
      ]
     },
     "execution_count": 47,
     "metadata": {},
     "output_type": "execute_result"
    }
   ],
   "source": [
    "# contour, 2차원\n",
    "x = np.tile(np.arange(1, 101), (100, 1))\n",
    "y = x.transpose()\n",
    "X = np.exp((((x - 50) ** 2) + ((y - 50) ** 2)) / -(20.0 ** 2))\n",
    "\n",
    "viz.contour(X=X, opts=dict(colormap='Viridis'))"
   ]
  },
  {
   "cell_type": "code",
   "execution_count": 48,
   "metadata": {},
   "outputs": [
    {
     "data": {
      "text/plain": [
       "'window_3753a26760b30a'"
      ]
     },
     "execution_count": 48,
     "metadata": {},
     "output_type": "execute_result"
    }
   ],
   "source": [
    "# surface, 3차원\n",
    "viz.surf(X=X, opts=dict(colormap='Hot'))"
   ]
  },
  {
   "cell_type": "markdown",
   "metadata": {},
   "source": [
    "# Line Plot"
   ]
  },
  {
   "cell_type": "code",
   "execution_count": 49,
   "metadata": {},
   "outputs": [
    {
     "data": {
      "text/plain": [
       "'window_3753a26f477d74'"
      ]
     },
     "execution_count": 49,
     "metadata": {},
     "output_type": "execute_result"
    }
   ],
   "source": [
    "viz.line(Y=np.random.rand(10))"
   ]
  },
  {
   "cell_type": "markdown",
   "metadata": {},
   "source": [
    "# Update Line Plot"
   ]
  },
  {
   "cell_type": "code",
   "execution_count": 50,
   "metadata": {},
   "outputs": [
    {
     "data": {
      "text/plain": [
       "'window_3753a27e728f52'"
      ]
     },
     "execution_count": 50,
     "metadata": {},
     "output_type": "execute_result"
    }
   ],
   "source": [
    "# line updates, update='append' 를 이용\n",
    "win = viz.line(\n",
    "    X=np.column_stack((np.arange(0, 10), np.arange(0, 10))),\n",
    "    Y=np.column_stack((np.linspace(5, 10, 10), np.linspace(5, 10, 10) + 5)),\n",
    ")\n",
    "\n",
    "viz.line(\n",
    "    X=np.column_stack((np.arange(10, 20), np.arange(10, 20))),\n",
    "    Y=np.column_stack((np.linspace(5, 10, 10), np.linspace(5, 10, 10) + 5)),\n",
    "    win=win,\n",
    "    update='append'\n",
    ")"
   ]
  },
  {
   "cell_type": "markdown",
   "metadata": {},
   "source": [
    "# Pie Chart"
   ]
  },
  {
   "cell_type": "code",
   "execution_count": 51,
   "metadata": {},
   "outputs": [
    {
     "data": {
      "text/plain": [
       "'window_3753a28a21979e'"
      ]
     },
     "execution_count": 51,
     "metadata": {},
     "output_type": "execute_result"
    }
   ],
   "source": [
    "# pie chart, 원형 차트, 엑셀에서 자주 이용\n",
    "X = np.asarray([19, 26, 55])\n",
    "viz.pie(\n",
    "    X=X,\n",
    "    opts=dict(legend=['Residential', 'Non-Residential', 'Utility'])\n",
    ")"
   ]
  },
  {
   "cell_type": "markdown",
   "metadata": {},
   "source": [
    "# With PyTorch Tensors"
   ]
  },
  {
   "cell_type": "code",
   "execution_count": 52,
   "metadata": {},
   "outputs": [],
   "source": [
    "# PyTorch tensor, 좌표를 전다랗여 torch_tensor로 그래프 그리기\n",
    "try:\n",
    "    import torch\n",
    "    viz.line(Y=torch.Tensor([[0., 0.], [1., 1.]]))\n",
    "except ImportError:\n",
    "    print('Skipped PyTorch example')"
   ]
  },
  {
   "cell_type": "code",
   "execution_count": null,
   "metadata": {},
   "outputs": [],
   "source": []
  },
  {
   "cell_type": "code",
   "execution_count": null,
   "metadata": {},
   "outputs": [],
   "source": []
  },
  {
   "cell_type": "code",
   "execution_count": null,
   "metadata": {},
   "outputs": [],
   "source": []
  },
  {
   "cell_type": "code",
   "execution_count": null,
   "metadata": {},
   "outputs": [],
   "source": []
  }
 ],
 "metadata": {
  "kernelspec": {
   "display_name": "Python 3",
   "language": "python",
   "name": "python3"
  },
  "language_info": {
   "codemirror_mode": {
    "name": "ipython",
    "version": 3
   },
   "file_extension": ".py",
   "mimetype": "text/x-python",
   "name": "python",
   "nbconvert_exporter": "python",
   "pygments_lexer": "ipython3",
   "version": "3.6.7"
  }
 },
 "nbformat": 4,
 "nbformat_minor": 2
}
