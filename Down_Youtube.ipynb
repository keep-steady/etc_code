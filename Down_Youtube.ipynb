{
 "cells": [
  {
   "cell_type": "code",
   "execution_count": null,
   "metadata": {
    "collapsed": true
   },
   "outputs": [],
   "source": [
    "from pathlib import PurePath, Path\n",
    "import youtube_dl\n",
    "import os, time"
   ]
  },
  {
   "cell_type": "code",
   "execution_count": null,
   "metadata": {
    "collapsed": true
   },
   "outputs": [],
   "source": []
  },
  {
   "cell_type": "code",
   "execution_count": null,
   "metadata": {
    "collapsed": true
   },
   "outputs": [],
   "source": []
  },
  {
   "cell_type": "code",
   "execution_count": 48,
   "metadata": {},
   "outputs": [],
   "source": [
    "# 폴더 및 경로 생성\n",
    "VIDEO_PATH           = '~/Desktop\\youtube_video'\n",
    "\n",
    "Path(VIDEO_PATH).mkdir(parents=True, exist_ok=True)\n",
    "# URL\n",
    "# VIDEO_URL = 'https://www.youtube.com/watch?v=PhuV2Db5buc'\n",
    "# VIDEO_URL = 'https://www.youtube.com/watch?v=TFl1N2R-1mc'\n",
    "# VIDEO_URL = 'https://www.youtube.com/watch?v=nK6au5PnXB0'\n",
    "# VIDEO_URL = 'https://www.youtube.com/watch?v=b6We0jSeC00&feature=youtu.be'\n",
    "# VIDEO_URL = 'https://www.youtube.com/watch?v=wtdtU4mqqig'\n",
    "# VIDEO_URL = 'https://www.youtube.com/watch?v=vxuG2dPmxUs'\n",
    "# VIDEO_URL = 'https://www.youtube.com/watch?v=klnfWhPGPRs&t=1992s'\n",
    "# VIDEO_URL = 'https://www.youtube.com/watch?v=7k2uC4bnMdM'\n",
    "\n",
    "VIDEO_URL = 'https://www.youtube.com/watch?v=GRQuRcpf5Gc'"
   ]
  },
  {
   "cell_type": "code",
   "execution_count": 49,
   "metadata": {},
   "outputs": [
    {
     "name": "stdout",
     "output_type": "stream",
     "text": [
      "[youtube] GRQuRcpf5Gc: Downloading webpage\n",
      "[youtube] GRQuRcpf5Gc: Downloading video info webpage\n",
      "[download] Destination: C:\\Users\\GO\\Desktop\\youtube_video\\vid2vid.f299\n",
      "[download] 100% of 79.74MiB in 00:08                          \n",
      "[download] Destination: C:\\Users\\GO\\Desktop\\youtube_video\\vid2vid.f140\n",
      "[download] 100% of 3.29MiB in 00:00                   \n",
      "[ffmpeg] Merging formats into \"C:\\Users\\GO\\Desktop\\youtube_video\\vid2vid.mp4\"\n",
      "Deleting original file C:\\Users\\GO\\Desktop\\youtube_video\\vid2vid.f299 (pass -k to keep)\n",
      "Deleting original file C:\\Users\\GO\\Desktop\\youtube_video\\vid2vid.f140 (pass -k to keep)\n"
     ]
    }
   ],
   "source": [
    "# URL 로부터 yoUTUBE 동영상 다운\n",
    "def Get_video( video_name, video_url, VIDEO_PATH ):\n",
    "    options = {\n",
    "        'format': 'bestvideo[ext=mp4]+bestaudio[ext=m4a]/bestvideo+bestaudio',\n",
    "        'outtmpl': os.path.join(VIDEO_PATH, video_name),\n",
    "        'merge_output_format' : 'mp4'\n",
    "    }\n",
    "    with youtube_dl.YoutubeDL(options) as ydl:\n",
    "        try:\n",
    "            x = ydl.download([video_url])\n",
    "        except :\n",
    "            print(video_name, ': URL 없음')\n",
    "            \n",
    "\n",
    "Get_video( 'vid2vid' , VIDEO_URL , VIDEO_PATH)"
   ]
  },
  {
   "cell_type": "code",
   "execution_count": null,
   "metadata": {
    "collapsed": true
   },
   "outputs": [],
   "source": []
  },
  {
   "cell_type": "code",
   "execution_count": null,
   "metadata": {
    "collapsed": true
   },
   "outputs": [],
   "source": []
  },
  {
   "cell_type": "code",
   "execution_count": null,
   "metadata": {
    "collapsed": true
   },
   "outputs": [],
   "source": []
  },
  {
   "cell_type": "code",
   "execution_count": null,
   "metadata": {
    "collapsed": true
   },
   "outputs": [],
   "source": []
  },
  {
   "cell_type": "code",
   "execution_count": null,
   "metadata": {
    "collapsed": true
   },
   "outputs": [],
   "source": []
  },
  {
   "cell_type": "code",
   "execution_count": null,
   "metadata": {
    "collapsed": true
   },
   "outputs": [],
   "source": []
  },
  {
   "cell_type": "code",
   "execution_count": null,
   "metadata": {
    "collapsed": true
   },
   "outputs": [],
   "source": []
  },
  {
   "cell_type": "code",
   "execution_count": null,
   "metadata": {
    "collapsed": true
   },
   "outputs": [],
   "source": []
  },
  {
   "cell_type": "code",
   "execution_count": null,
   "metadata": {
    "collapsed": true
   },
   "outputs": [],
   "source": []
  },
  {
   "cell_type": "code",
   "execution_count": null,
   "metadata": {
    "collapsed": true
   },
   "outputs": [],
   "source": []
  },
  {
   "cell_type": "code",
   "execution_count": null,
   "metadata": {
    "collapsed": true
   },
   "outputs": [],
   "source": []
  }
 ],
 "metadata": {
  "kernelspec": {
   "display_name": "Python 3",
   "language": "python",
   "name": "python3"
  },
  "language_info": {
   "codemirror_mode": {
    "name": "ipython",
    "version": 3
   },
   "file_extension": ".py",
   "mimetype": "text/x-python",
   "name": "python",
   "nbconvert_exporter": "python",
   "pygments_lexer": "ipython3",
   "version": "3.6.1"
  }
 },
 "nbformat": 4,
 "nbformat_minor": 2
}
