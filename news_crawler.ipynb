{
 "cells": [
  {
   "cell_type": "code",
   "execution_count": null,
   "metadata": {
    "collapsed": true
   },
   "outputs": [],
   "source": []
  },
  {
   "cell_type": "code",
   "execution_count": 1,
   "metadata": {},
   "outputs": [
    {
     "ename": "Exception",
     "evalue": "Install MeCab in order to use it: http://konlpy.org/en/latest/install/",
     "output_type": "error",
     "traceback": [
      "\u001b[1;31m---------------------------------------------------------------------------\u001b[0m",
      "\u001b[1;31mNameError\u001b[0m                                 Traceback (most recent call last)",
      "\u001b[1;32mC:\\ProgramData\\Anaconda3\\envs\\venv\\lib\\site-packages\\konlpy\\tag\\_mecab.py\u001b[0m in \u001b[0;36m__init__\u001b[1;34m(self, dicpath)\u001b[0m\n\u001b[0;32m    106\u001b[0m         \u001b[1;32mtry\u001b[0m\u001b[1;33m:\u001b[0m\u001b[1;33m\u001b[0m\u001b[0m\n\u001b[1;32m--> 107\u001b[1;33m             \u001b[0mself\u001b[0m\u001b[1;33m.\u001b[0m\u001b[0mtagger\u001b[0m \u001b[1;33m=\u001b[0m \u001b[0mTagger\u001b[0m\u001b[1;33m(\u001b[0m\u001b[1;34m'-d %s'\u001b[0m \u001b[1;33m%\u001b[0m \u001b[0mdicpath\u001b[0m\u001b[1;33m)\u001b[0m\u001b[1;33m\u001b[0m\u001b[0m\n\u001b[0m\u001b[0;32m    108\u001b[0m             \u001b[0mself\u001b[0m\u001b[1;33m.\u001b[0m\u001b[0mtagset\u001b[0m \u001b[1;33m=\u001b[0m \u001b[0mutils\u001b[0m\u001b[1;33m.\u001b[0m\u001b[0mread_json\u001b[0m\u001b[1;33m(\u001b[0m\u001b[1;34m'%s/data/tagset/mecab.json'\u001b[0m \u001b[1;33m%\u001b[0m \u001b[0mutils\u001b[0m\u001b[1;33m.\u001b[0m\u001b[0minstallpath\u001b[0m\u001b[1;33m)\u001b[0m\u001b[1;33m\u001b[0m\u001b[0m\n",
      "\u001b[1;31mNameError\u001b[0m: name 'Tagger' is not defined",
      "\nDuring handling of the above exception, another exception occurred:\n",
      "\u001b[1;31mException\u001b[0m                                 Traceback (most recent call last)",
      "\u001b[1;32m<ipython-input-1-753db80a0f64>\u001b[0m in \u001b[0;36m<module>\u001b[1;34m()\u001b[0m\n\u001b[0;32m     38\u001b[0m \u001b[1;31m# 경향신문 경제뉴스 RSS\u001b[0m\u001b[1;33m\u001b[0m\u001b[1;33m\u001b[0m\u001b[0m\n\u001b[0;32m     39\u001b[0m \u001b[0mrss_link\u001b[0m \u001b[1;33m=\u001b[0m \u001b[1;34m'http://www.khan.co.kr/rss/rssdata/economy.xml'\u001b[0m\u001b[1;33m\u001b[0m\u001b[0m\n\u001b[1;32m---> 40\u001b[1;33m \u001b[0mdraw_wordcloud_from_rss\u001b[0m\u001b[1;33m(\u001b[0m\u001b[0mrss_link\u001b[0m\u001b[1;33m)\u001b[0m\u001b[1;33m\u001b[0m\u001b[0m\n\u001b[0m",
      "\u001b[1;32m<ipython-input-1-753db80a0f64>\u001b[0m in \u001b[0;36mdraw_wordcloud_from_rss\u001b[1;34m(rss_link)\u001b[0m\n\u001b[0;32m     20\u001b[0m \u001b[1;33m\u001b[0m\u001b[0m\n\u001b[0;32m     21\u001b[0m     \u001b[1;31m# konlpy, Mecab: 형태소 분석을 통해 본문에서 명사추출, 1글자는 단어는 삭제\u001b[0m\u001b[1;33m\u001b[0m\u001b[1;33m\u001b[0m\u001b[0m\n\u001b[1;32m---> 22\u001b[1;33m     \u001b[0mengine\u001b[0m \u001b[1;33m=\u001b[0m \u001b[0mMecab\u001b[0m\u001b[1;33m(\u001b[0m\u001b[1;33m)\u001b[0m\u001b[1;33m\u001b[0m\u001b[0m\n\u001b[0m\u001b[0;32m     23\u001b[0m     \u001b[0mnouns\u001b[0m \u001b[1;33m=\u001b[0m \u001b[0mengine\u001b[0m\u001b[1;33m.\u001b[0m\u001b[0mnouns\u001b[0m\u001b[1;33m(\u001b[0m\u001b[0mnews_text\u001b[0m\u001b[1;33m)\u001b[0m\u001b[1;33m\u001b[0m\u001b[0m\n\u001b[0;32m     24\u001b[0m     \u001b[0mnouns\u001b[0m \u001b[1;33m=\u001b[0m \u001b[1;33m[\u001b[0m\u001b[0mn\u001b[0m \u001b[1;32mfor\u001b[0m \u001b[0mn\u001b[0m \u001b[1;32min\u001b[0m \u001b[0mnouns\u001b[0m \u001b[1;32mif\u001b[0m \u001b[0mlen\u001b[0m\u001b[1;33m(\u001b[0m\u001b[0mn\u001b[0m\u001b[1;33m)\u001b[0m \u001b[1;33m>\u001b[0m \u001b[1;36m1\u001b[0m\u001b[1;33m]\u001b[0m\u001b[1;33m\u001b[0m\u001b[0m\n",
      "\u001b[1;32mC:\\ProgramData\\Anaconda3\\envs\\venv\\lib\\site-packages\\konlpy\\tag\\_mecab.py\u001b[0m in \u001b[0;36m__init__\u001b[1;34m(self, dicpath)\u001b[0m\n\u001b[0;32m    110\u001b[0m             \u001b[1;32mraise\u001b[0m \u001b[0mException\u001b[0m\u001b[1;33m(\u001b[0m\u001b[1;34m'The MeCab dictionary does not exist at \"%s\". Is the dictionary correctly installed?\\nYou can also try entering the dictionary path when initializing the Mecab class: \"Mecab(\\'/some/dic/path\\')\"'\u001b[0m \u001b[1;33m%\u001b[0m \u001b[0mdicpath\u001b[0m\u001b[1;33m)\u001b[0m\u001b[1;33m\u001b[0m\u001b[0m\n\u001b[0;32m    111\u001b[0m         \u001b[1;32mexcept\u001b[0m \u001b[0mNameError\u001b[0m\u001b[1;33m:\u001b[0m\u001b[1;33m\u001b[0m\u001b[0m\n\u001b[1;32m--> 112\u001b[1;33m             \u001b[1;32mraise\u001b[0m \u001b[0mException\u001b[0m\u001b[1;33m(\u001b[0m\u001b[1;34m'Install MeCab in order to use it: http://konlpy.org/en/latest/install/'\u001b[0m\u001b[1;33m)\u001b[0m\u001b[1;33m\u001b[0m\u001b[0m\n\u001b[0m",
      "\u001b[1;31mException\u001b[0m: Install MeCab in order to use it: http://konlpy.org/en/latest/install/"
     ]
    }
   ],
   "source": [
    "%matplotlib inline\n",
    "import feedparser\n",
    "import newspaper\n",
    "from konlpy.tag import Mecab\n",
    "from collections import Counter\n",
    "import matplotlib.pyplot as plt\n",
    "from wordcloud import WordCloud\n",
    "\n",
    "def draw_wordcloud_from_rss(rss_link):\n",
    "    #  feedparser, newspaper: RSS를 통해 뉴스의 본문을 수집\n",
    "    feeds = feedparser.parse(rss_link)\n",
    "    links = [entry['link'] for entry in feeds['entries']]\n",
    "\n",
    "    news_text =''\n",
    "    for link in links:\n",
    "        article = newspaper.Article(link, language='ko')\n",
    "        article.download()\n",
    "        article.parse()\n",
    "        news_text += article.text\n",
    "\n",
    "    # konlpy, Mecab: 형태소 분석을 통해 본문에서 명사추출, 1글자는 단어는 삭제\n",
    "    engine = Mecab() \n",
    "    nouns = engine.nouns(news_text)\n",
    "    nouns = [n for n in nouns if len(n) > 1]\n",
    "\n",
    "    # Counter: 단어수 세기, 가장 많이 등장한 단어(명사) 40개\n",
    "    count = Counter(nouns)\n",
    "    tags = count.most_common(40)\n",
    "\n",
    "    # WordCloud, matplotlib: 단어 구름 그리기\n",
    "    font_path = '/usr/share/fonts/truetype/nanum/NanumMyeongjoBold.ttf'\n",
    "    wc = WordCloud(font_path=font_path, background_color='white', width=800, height=600)\n",
    "    cloud = wc.generate_from_frequencies(dict(tags))\n",
    "    plt.figure(figsize=(10,8))\n",
    "    plt.axis('off')\n",
    "    plt.imshow(cloud)\n",
    "    \n",
    "# 경향신문 경제뉴스 RSS\n",
    "rss_link = 'http://www.khan.co.kr/rss/rssdata/economy.xml'\n",
    "draw_wordcloud_from_rss(rss_link)"
   ]
  },
  {
   "cell_type": "code",
   "execution_count": 8,
   "metadata": {},
   "outputs": [],
   "source": [
    "news_text =''\n",
    "for link in links:\n",
    "    article = newspaper.Article(link, language='ko')\n",
    "    article.download()\n",
    "    article.parse()\n",
    "    news_text += article.text"
   ]
  },
  {
   "cell_type": "code",
   "execution_count": 9,
   "metadata": {},
   "outputs": [
    {
     "data": {
      "text/plain": [
       "'ㆍ중기청장과 밤샘토'"
      ]
     },
     "execution_count": 9,
     "metadata": {},
     "output_type": "execute_result"
    }
   ],
   "source": [
    "news_text[:10]"
   ]
  },
  {
   "cell_type": "code",
   "execution_count": 2,
   "metadata": {},
   "outputs": [
    {
     "data": {
      "text/plain": [
       "['http://news.khan.co.kr/kh_news/khan_art_view.html?artid=201203251835221&code=920100',\n",
       " 'http://news.khan.co.kr/kh_news/khan_art_view.html?artid=201203251356231&code=920401',\n",
       " 'http://news.khan.co.kr/kh_news/khan_art_view.html?artid=201203251356161&code=920401',\n",
       " 'http://news.khan.co.kr/kh_news/khan_art_view.html?artid=201203251355591&code=920401',\n",
       " 'http://news.khan.co.kr/kh_news/khan_art_view.html?artid=201203251128101&code=920100',\n",
       " 'http://news.khan.co.kr/kh_news/khan_art_view.html?artid=201203231743501&code=920301',\n",
       " 'http://news.khan.co.kr/kh_news/khan_art_view.html?artid=201203231411441&code=920100',\n",
       " 'http://news.khan.co.kr/kh_news/khan_art_view.html?artid=201203231410391&code=920100',\n",
       " 'http://news.khan.co.kr/kh_news/khan_art_view.html?artid=201203231409321&code=920100',\n",
       " 'http://news.khan.co.kr/kh_news/khan_art_view.html?artid=201203231311491&code=920100',\n",
       " 'http://news.khan.co.kr/kh_news/khan_art_view.html?artid=201203231142301&code=920401',\n",
       " 'http://news.khan.co.kr/kh_news/khan_art_view.html?artid=201203231140381&code=920100',\n",
       " 'http://news.khan.co.kr/kh_news/khan_art_view.html?artid=201203231018391&code=920100',\n",
       " 'http://news.khan.co.kr/kh_news/khan_art_view.html?artid=201203230000015&code=920100',\n",
       " 'http://news.khan.co.kr/kh_news/khan_art_view.html?artid=201203222130035&code=920100',\n",
       " 'http://news.khan.co.kr/kh_news/khan_art_view.html?artid=201203222124535&code=920401',\n",
       " 'http://news.khan.co.kr/kh_news/khan_art_view.html?artid=201203222124435&code=920401',\n",
       " 'http://news.khan.co.kr/kh_news/khan_art_view.html?artid=201203222122555&code=920501',\n",
       " 'http://news.khan.co.kr/kh_news/khan_art_view.html?artid=201203222122515&code=920301',\n",
       " 'http://news.khan.co.kr/kh_news/khan_art_view.html?artid=201203222122445&code=920401',\n",
       " 'http://news.khan.co.kr/kh_news/khan_art_view.html?artid=201203222122395&code=920201',\n",
       " 'http://news.khan.co.kr/kh_news/khan_art_view.html?artid=201203222122365&code=920401',\n",
       " 'http://news.khan.co.kr/kh_news/khan_art_view.html?artid=201203222119095&code=920401',\n",
       " 'http://news.khan.co.kr/kh_news/khan_art_view.html?artid=201203222119065&code=920508',\n",
       " 'http://news.khan.co.kr/kh_news/khan_art_view.html?artid=201203222119005&code=920100',\n",
       " 'http://news.khan.co.kr/kh_news/khan_art_view.html?artid=201203222118555&code=920401',\n",
       " 'http://news.khan.co.kr/kh_news/khan_art_view.html?artid=201203221733191&code=920100',\n",
       " 'http://news.khan.co.kr/kh_news/khan_art_view.html?artid=201203221700281&code=920401',\n",
       " 'http://news.khan.co.kr/kh_news/khan_art_view.html?artid=201203221459481&code=920100',\n",
       " 'http://news.khan.co.kr/kh_news/khan_art_view.html?artid=201203221407191&code=920501']"
      ]
     },
     "execution_count": 2,
     "metadata": {},
     "output_type": "execute_result"
    }
   ],
   "source": [
    "import feedparser\n",
    "\n",
    "#  경향닷컴 경제뉴스 RSS\n",
    "feeds = feedparser.parse('http://www.khan.co.kr/rss/rssdata/economy.xml')\n",
    "links = [entry['link'] for entry in feeds['entries']]\n",
    "links"
   ]
  },
  {
   "cell_type": "markdown",
   "metadata": {},
   "source": [
    "# 2) newspaper: 뉴스 본분 수집\n",
    "newspaper: HTML문서에서 제목, 본문 등을 자동 식별하여 텍스트를 추출하는 라이브러리\n",
    "본문(article.text)를 모두 news_text에 누적하여 저장\n",
    "30개 뉴스의 본문 길이가 27213 자"
   ]
  },
  {
   "cell_type": "code",
   "execution_count": 10,
   "metadata": {},
   "outputs": [
    {
     "name": "stdout",
     "output_type": "stream",
     "text": [
      "0\n"
     ]
    },
    {
     "data": {
      "text/plain": [
       "''"
      ]
     },
     "execution_count": 10,
     "metadata": {},
     "output_type": "execute_result"
    }
   ],
   "source": [
    "import newspaper\n",
    "\n",
    "news_text =''\n",
    "for link in links:\n",
    "    article = newspaper.Article(link, language='en')\n",
    "    article.download()\n",
    "    article.parse()\n",
    "    news_text += article.text\n",
    "print(len(news_text))\n",
    "news_text[:100]"
   ]
  },
  {
   "cell_type": "code",
   "execution_count": null,
   "metadata": {
    "collapsed": true
   },
   "outputs": [],
   "source": []
  },
  {
   "cell_type": "code",
   "execution_count": null,
   "metadata": {
    "collapsed": true
   },
   "outputs": [],
   "source": []
  },
  {
   "cell_type": "code",
   "execution_count": null,
   "metadata": {
    "collapsed": true
   },
   "outputs": [],
   "source": []
  },
  {
   "cell_type": "code",
   "execution_count": null,
   "metadata": {
    "collapsed": true
   },
   "outputs": [],
   "source": []
  },
  {
   "cell_type": "code",
   "execution_count": null,
   "metadata": {
    "collapsed": true
   },
   "outputs": [],
   "source": []
  },
  {
   "cell_type": "code",
   "execution_count": null,
   "metadata": {
    "collapsed": true
   },
   "outputs": [],
   "source": []
  },
  {
   "cell_type": "code",
   "execution_count": null,
   "metadata": {
    "collapsed": true
   },
   "outputs": [],
   "source": []
  },
  {
   "cell_type": "code",
   "execution_count": null,
   "metadata": {
    "collapsed": true
   },
   "outputs": [],
   "source": []
  },
  {
   "cell_type": "code",
   "execution_count": null,
   "metadata": {
    "collapsed": true
   },
   "outputs": [],
   "source": []
  },
  {
   "cell_type": "code",
   "execution_count": null,
   "metadata": {
    "collapsed": true
   },
   "outputs": [],
   "source": []
  }
 ],
 "metadata": {
  "kernelspec": {
   "display_name": "Python 3",
   "language": "python",
   "name": "python3"
  },
  "language_info": {
   "codemirror_mode": {
    "name": "ipython",
    "version": 3
   },
   "file_extension": ".py",
   "mimetype": "text/x-python",
   "name": "python",
   "nbconvert_exporter": "python",
   "pygments_lexer": "ipython3",
   "version": "3.6.1"
  }
 },
 "nbformat": 4,
 "nbformat_minor": 2
}
