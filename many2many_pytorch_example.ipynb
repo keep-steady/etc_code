{
 "cells": [
  {
   "cell_type": "markdown",
   "metadata": {},
   "source": [
    "# Pytorch many2many 예제 by wygo\n",
    "기본 rnn 사용, 추후 lstm, bilstm으로 업데이트\n",
    "dropout 추가하여 성능 향상 가능"
   ]
  },
  {
   "cell_type": "code",
   "execution_count": 1,
   "metadata": {
    "collapsed": true
   },
   "outputs": [],
   "source": [
    "import numpy as np\n",
    "import torch\n",
    "import torch.nn as nn\n",
    "import torch.optim as optim\n",
    "from torch.autograd import Variable\n",
    "dtype = torch.FloatTensor"
   ]
  },
  {
   "cell_type": "code",
   "execution_count": 2,
   "metadata": {
    "collapsed": true
   },
   "outputs": [],
   "source": [
    "batch_size = 3\n",
    "sequence_length = 4\n",
    "ont_hot_embedding_size = 5\n",
    "label_size = 4  # start, end, middle, none"
   ]
  },
  {
   "cell_type": "code",
   "execution_count": 49,
   "metadata": {},
   "outputs": [
    {
     "name": "stdout",
     "output_type": "stream",
     "text": [
      "input  shape :  torch.Size([3, 4, 5])\n",
      "output shape :  torch.Size([3, 4])\n"
     ]
    }
   ],
   "source": [
    "## 임의의 데이터 생성\n",
    "batch_size = 3\n",
    "sequence_length = 4\n",
    "ont_hot_embedding_size = 5\n",
    "label_size = 4  # start, end, middle, none\n",
    "n_hidden = 7 # number of hidden units in one cell\n",
    "\n",
    "X, Y = [], []\n",
    "for i in range(batch_size):\n",
    "    # sequence 생성\n",
    "    sequence = []\n",
    "    # random 임의 생성\n",
    "    temp = np.random.choice(ont_hot_embedding_size, 4)\n",
    "    for ii in range(sequence_length):\n",
    "        sequence.append(np.eye(ont_hot_embedding_size)[temp[ii]])\n",
    "    \n",
    "    # 배치 생성\n",
    "    X.append(sequence)\n",
    "    Y.append(np.random.choice(label_size, sequence_length))  # 0~3 사이 랜덤으로 label 생성\n",
    "    \n",
    "# X : (batch_size, sequence_length, ont_hot_embedding_size)\n",
    "# Y : (batch_size)\n",
    "\n",
    "# to Torch.Tensor\n",
    "input_batch = Variable(torch.Tensor(X))\n",
    "target_batch = Variable(torch.LongTensor(Y))\n",
    "\n",
    "print('input  shape : ', input_batch.shape)\n",
    "print('output shape : ', target_batch.shape)"
   ]
  },
  {
   "cell_type": "code",
   "execution_count": 52,
   "metadata": {},
   "outputs": [
    {
     "name": "stdout",
     "output_type": "stream",
     "text": [
      "TextRNN(\n",
      "  (rnn): RNN(5, 7)\n",
      "  (fc): Linear(in_features=7, out_features=4, bias=True)\n",
      ")\n"
     ]
    }
   ],
   "source": [
    "class TextRNN(nn.Module):\n",
    "    def __init__(self):\n",
    "        super(TextRNN, self).__init__()\n",
    "\n",
    "        self.rnn = nn.RNN(input_size=ont_hot_embedding_size, hidden_size=n_hidden)\n",
    "        self.fc = nn.Linear(n_hidden, label_size)\n",
    "        \n",
    "    def forward(self, hidden, X):\n",
    "        # X    : (batch_size, sequence_length, ont_hot_embedding_size)\n",
    "        # input: (sequence_length, batch_size, ont_hot_embedding_size)\n",
    "        input = X.transpose(0, 1)\n",
    "        \n",
    "        # input  : (sequence_length, batch_size, ont_hot_embedding_size)\n",
    "        # outputs: (sequence_length, batch_size, n_hidden)\n",
    "        # hidden : (num_layers(=1) * num_directions(=1), batch_size, n_hidden)\n",
    "        outputs, hidden = self.rnn(input, hidden)\n",
    "        \n",
    "#         # many to one\n",
    "#         outputs = outputs[-1]\n",
    "        \n",
    "        # model : [sequence_length, batch_size, label_size]\n",
    "        model = self.fc(outputs)        \n",
    "        return model\n",
    "    \n",
    "\n",
    "model = TextRNN()\n",
    "print(model)\n",
    "criterion = nn.CrossEntropyLoss()\n",
    "optimizer = optim.Adam(model.parameters(), lr=0.001)"
   ]
  },
  {
   "cell_type": "code",
   "execution_count": 53,
   "metadata": {
    "scrolled": false
   },
   "outputs": [
    {
     "name": "stdout",
     "output_type": "stream",
     "text": [
      "Epoch: 1000 cost = 0.514071\n",
      "Epoch: 2000 cost = 0.383276\n",
      "Epoch: 3000 cost = 0.361003\n",
      "Epoch: 4000 cost = 0.353580\n",
      "Epoch: 5000 cost = 0.350328\n"
     ]
    }
   ],
   "source": [
    "# Training\n",
    "for epoch in range(10000):\n",
    "    optimizer.zero_grad()\n",
    "\n",
    "    # hidden : [num_layers * num_directions, batch, hidden_size]\n",
    "    hidden = Variable(torch.zeros(1, batch_size, n_hidden))\n",
    "    \n",
    "    # input_batch : [batch_size, n_step, n_class]\n",
    "    output = model(hidden, input_batch)\n",
    "\n",
    "    # output : [sequence_length, batch_size, label_size]\n",
    "    #        ->[batch_size, sequence_length, label_size]\n",
    "    output = output.transpose(0, 1)\n",
    "    loss = 0\n",
    "    # batch 별로 for문을돌리며 loss 합\n",
    "    for i in range(0, batch_size):\n",
    "        # output[i] : [max_len+1, num_directions(=1) * n_hidden, target_batch[i] : max_len+1]\n",
    "        loss += criterion(output[i], target_batch[i])\n",
    "\n",
    "        \n",
    "    if (epoch + 1) % 1000 == 0:\n",
    "        print('Epoch:', '%04d' % (epoch + 1), 'cost =', '{:.6f}'.format(loss))\n",
    "\n",
    "    loss.backward()\n",
    "    optimizer.step()\n"
   ]
  },
  {
   "cell_type": "code",
   "execution_count": 119,
   "metadata": {},
   "outputs": [
    {
     "name": "stdout",
     "output_type": "stream",
     "text": [
      "output  : [sequence_length, batch_size, label_size]\n",
      "output  : torch.Size([4, 3, 4])\n"
     ]
    }
   ],
   "source": [
    "# hidden : [num_layers * num_directions, batch, hidden_size]\n",
    "hidden = Variable(torch.zeros(1, batch_size, n_hidden))\n",
    "output = model(hidden, input_batch)\n",
    "# output : [sequence_length, batch_size, label_size]\n",
    "print('output  : [sequence_length, batch_size, label_size]')\n",
    "print('output  :',output.shape)"
   ]
  },
  {
   "cell_type": "code",
   "execution_count": 115,
   "metadata": {},
   "outputs": [
    {
     "name": "stdout",
     "output_type": "stream",
     "text": [
      "torch.Size([3, 4, 1])\n",
      "\n",
      "True : tensor(0)  /tensor(1)  /tensor(0)  /tensor(1)\n",
      "Pred : tensor([0])/tensor([1])/tensor([0])/tensor([1])\n",
      "\n",
      "True : tensor(3)  /tensor(3)  /tensor(2)  /tensor(1)\n",
      "Pred : tensor([0])/tensor([3])/tensor([2])/tensor([3])\n",
      "\n",
      "True : tensor(0)  /tensor(0)  /tensor(2)  /tensor(1)\n",
      "Pred : tensor([0])/tensor([0])/tensor([2])/tensor([0])\n"
     ]
    }
   ],
   "source": [
    "predict = output.data.max(2, keepdim=True)[1]\n",
    "predict = predict.transpose(0, 1)  # [batch_size, sequence_length, label_size]\n",
    "\n",
    "print(predict.shape)\n",
    "\n",
    "for i in range(batch_size):\n",
    "    print('\\nTrue : %s  /%s  /%s  /%s' %(target_batch[i][0], target_batch[i][1], target_batch[i][2], target_batch[0][3]))\n",
    "    print('Pred : %s/%s/%s/%s' %(predict[i][0], predict[i][1], predict[i][2], predict[i][3]))"
   ]
  },
  {
   "cell_type": "code",
   "execution_count": null,
   "metadata": {
    "collapsed": true
   },
   "outputs": [],
   "source": []
  },
  {
   "cell_type": "code",
   "execution_count": null,
   "metadata": {
    "collapsed": true
   },
   "outputs": [],
   "source": []
  },
  {
   "cell_type": "code",
   "execution_count": null,
   "metadata": {
    "collapsed": true
   },
   "outputs": [],
   "source": [
    "# 위의 3줄 풀어쓴 코드, byte(256) -> 8진수로 변환, 256 차원은 너무 커서\n",
    "# 255 -> 1/16 * [ 1, 1, 1, 1, 1, ,1 ,1, 1]\n",
    "\n",
    "# byte의 seq를 8진수로 바꿔서 8진수의 seq로 변환\n",
    "seq_oct = []\n",
    "for byte in seq:\n",
    "    # byte -> 8진수로 변환\n",
    "    byte2oct = []\n",
    "    for p in range(7, -1, -1):\n",
    "        # byte와 2^p가 같으면 수행, 1<<p : 2^p\n",
    "        if byte & (1<<p):\n",
    "            byte2oct.append(encode_val)\n",
    "        else:\n",
    "            byte2oct.append(-encode_val)\n",
    "    seq_oct.append(byte2oct)\n",
    "new_data[j, :len(seq), :] = seq_oct"
   ]
  },
  {
   "cell_type": "code",
   "execution_count": null,
   "metadata": {
    "collapsed": true
   },
   "outputs": [],
   "source": []
  },
  {
   "cell_type": "code",
   "execution_count": null,
   "metadata": {},
   "outputs": [],
   "source": []
  },
  {
   "cell_type": "code",
   "execution_count": null,
   "metadata": {
    "collapsed": true
   },
   "outputs": [],
   "source": []
  }
 ],
 "metadata": {
  "kernelspec": {
   "display_name": "Python 3",
   "language": "python",
   "name": "python3"
  },
  "language_info": {
   "codemirror_mode": {
    "name": "ipython",
    "version": 3
   },
   "file_extension": ".py",
   "mimetype": "text/x-python",
   "name": "python",
   "nbconvert_exporter": "python",
   "pygments_lexer": "ipython3",
   "version": "3.6.1"
  }
 },
 "nbformat": 4,
 "nbformat_minor": 2
}
