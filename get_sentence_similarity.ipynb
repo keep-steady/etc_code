{
 "cells": [
  {
   "cell_type": "markdown",
   "metadata": {},
   "source": [
    "# ngram 기반 문장 유사도 분석\n",
    "\n",
    "200326\n",
    "\n",
    "중복뉴스 제거를 위해"
   ]
  },
  {
   "cell_type": "code",
   "execution_count": 161,
   "metadata": {},
   "outputs": [],
   "source": [
    "import re, os\n",
    "import matplotlib.pyplot as plt\n",
    "import matplotlib.cm as cm\n",
    "import numpy as np\n",
    "from konlpy.tag import Okt\n",
    "okt=Okt()"
   ]
  },
  {
   "cell_type": "code",
   "execution_count": 178,
   "metadata": {},
   "outputs": [
    {
     "data": {
      "text/plain": [
       "[\"마루웹호스팅, 공격자와 협상에도 데이터 복구 '차질'\",\n",
       " '안랩, 이력서로 위장해 유포되는 넴티 랜섬웨어 주의 당부이번에도 호스팅 업체…잇따른 랜섬웨어 감염',\n",
       " '웹 호스팅 업체 마루인터넷, 랜섬웨어에 감염',\n",
       " '웹호스팅 업체 ‘마루호스팅’ 랜섬웨어 공격 당해... 해커와 협상 중',\n",
       " '웹호스팅 업체 \\'마루인터넷\\', 랜섬웨어 감염…\"공격자와 협상 중\"',\n",
       " '해커와 협상을?\" 웹호스팅 업체 또 해킹에 당했다',\n",
       " '\"마스크 생산기업, 랜섬웨어 걸리면…\"',\n",
       " '코로나19 악용한 랜섬웨어 주의보',\n",
       " 'KISA, 코로나19 이슈 악용한 랜섬웨어 공격 대비 보안 강화 당부',\n",
       " '\"코로나19\" 악용한 랜섬웨어 주의보',\n",
       " '코로나19 악용하는 사이버 공격 주의']"
      ]
     },
     "execution_count": 178,
     "metadata": {},
     "output_type": "execute_result"
    }
   ],
   "source": [
    "sentences = ['마루웹호스팅, 공격자와 협상에도 데이터 복구 \\'차질\\'',\n",
    "             '안랩, 이력서로 위장해 유포되는 넴티 랜섬웨어 주의 당부'\n",
    "             '이번에도 호스팅 업체…잇따른 랜섬웨어 감염',\n",
    "             '웹 호스팅 업체 마루인터넷, 랜섬웨어에 감염',\n",
    "             '웹호스팅 업체 ‘마루호스팅’ 랜섬웨어 공격 당해... 해커와 협상 중',\n",
    "             '웹호스팅 업체 \\'마루인터넷\\', 랜섬웨어 감염…\"공격자와 협상 중\"',\n",
    "             '''해커와 협상을?\" 웹호스팅 업체 또 해킹에 당했다''',\n",
    "             '\"마스크 생산기업, 랜섬웨어 걸리면…\"',\n",
    "             '코로나19 악용한 랜섬웨어 주의보',\n",
    "             'KISA, 코로나19 이슈 악용한 랜섬웨어 공격 대비 보안 강화 당부',\n",
    "             '\"코로나19\" 악용한 랜섬웨어 주의보',\n",
    "             '코로나19 악용하는 사이버 공격 주의']\n",
    "sentences"
   ]
  },
  {
   "cell_type": "code",
   "execution_count": 179,
   "metadata": {
    "code_folding": []
   },
   "outputs": [],
   "source": [
    "## functions\n",
    "def _rouge_clean(s):\n",
    "    return re.sub(r'[^a-zA-Z0-9ㄱ-ㅣ가-힣 ]', '', s)\n",
    "\n",
    "def _get_ngrams(n, text):\n",
    "    \"\"\"Calcualtes n-grams.\n",
    "\n",
    "    Args:\n",
    "      n: which n-grams to calculate\n",
    "      text: An array of tokens\n",
    "\n",
    "    Returns:\n",
    "      A set of n-grams\n",
    "    \"\"\"\n",
    "    ngram_set = set()\n",
    "    text_length = len(text)\n",
    "    max_index_ngram_start = text_length - n\n",
    "    for i in range(max_index_ngram_start + 1):\n",
    "        ngram_set.add(tuple(text[i:i + n]))\n",
    "    return ngram_set\n",
    "\n",
    "\n",
    "def _get_word_ngrams(n, sentence):\n",
    "    \"\"\"Calculates word n-grams for multiple sentences.\n",
    "    \"\"\"\n",
    "    assert len(sentence) > 0\n",
    "    assert n > 0\n",
    "\n",
    "    sentence = re.sub(r'[^a-zA-Z0-9ㄱ-ㅣ가-힣 ]', '', sentence )\n",
    "    \n",
    "    words = sentence.split()\n",
    "    return _get_ngrams(n, words)\n",
    "\n",
    "\n",
    "def cal_rouge(evaluated_ngrams, reference_ngrams):\n",
    "    # N-gram중 몇개가 겹치는가!\n",
    "    \n",
    "    reference_count = len(reference_ngrams)\n",
    "    evaluated_count = len(evaluated_ngrams)\n",
    "\n",
    "    overlapping_ngrams = evaluated_ngrams.intersection(reference_ngrams)\n",
    "    overlapping_count = len(overlapping_ngrams)\n",
    "\n",
    "    if evaluated_count == 0:\n",
    "        precision = 0.0\n",
    "    else:\n",
    "        precision = overlapping_count / evaluated_count\n",
    "\n",
    "    if reference_count == 0:\n",
    "        recall = 0.0\n",
    "    else:\n",
    "        recall = overlapping_count / reference_count\n",
    "\n",
    "    f1_score = 2.0 * ((precision * recall) / (precision + recall + 1e-8))\n",
    "    return {\"f\": f1_score, \"p\": precision, \"r\": recall}\n",
    "\n",
    "\n",
    "def get_rouge(sentence_1, sentence_2):\n",
    "    # input : sentence_1 : 그냥 일반 문장, '~~~'\n",
    "    # output: total rouge\n",
    "    \n",
    "    ## 1. 형태소 기준 tokenize, ' ' 삽입\n",
    "    #     '웹 호스팅 업체 마루인터넷, 랜섬웨어에 감염''\n",
    "    #  -> '웹 호스팅 업체 마루 인터넷 , 랜섬웨어 에 감염'\n",
    "    sentence_1 = ' '.join(okt.morphs(sentence_1))\n",
    "    sentence_2 = ' '.join(okt.morphs(sentence_2))\n",
    "    \n",
    "    ## 2. get n-gram!!\n",
    "    # {('공격', '당해', '해커'), ('웹호스팅', '업체', '마루'), ('마루', '호스팅', '랜섬'), ('호스팅', '랜섬', '웨어'), ('웨어', '공격', '당해'), ('와', '협상', '중'), ('당해', '해커', '와'), ('해커', '와', '협상'), ('업체', '마루', '호스팅'), ('랜섬', '웨어', '공격')}\n",
    "    sentence_1_1grams = _get_word_ngrams(1, sentence_1)\n",
    "    sentence_1_2grams = _get_word_ngrams(2, sentence_1)\n",
    "    sentence_1_3grams = _get_word_ngrams(3, sentence_1)\n",
    "    sentence_2_1grams = _get_word_ngrams(1, sentence_2)\n",
    "    sentence_2_2grams = _get_word_ngrams(2, sentence_2)\n",
    "    sentence_2_3grams = _get_word_ngrams(3, sentence_2)\n",
    "\n",
    "    ## 3. ROUGE 구하기\n",
    "    ROUGE_1 = cal_rouge(sentence_1_1grams, sentence_2_1grams)['f']\n",
    "    ROUGE_2 = cal_rouge(sentence_1_2grams, sentence_2_2grams)['f']\n",
    "    ROUGE_3 = cal_rouge(sentence_1_3grams, sentence_2_3grams)['f']\n",
    "\n",
    "    weight_1, weight_2, weight_3 = 1,1,1\n",
    "    Total_Rouge = weight_1*ROUGE_1 + weight_2*ROUGE_2 + weight_3*ROUGE_3\n",
    "    \n",
    "    print('ROUGE_1/2/3/Total : %.2f / %.2f / %.2f / %.2f' % (ROUGE_1, ROUGE_2, ROUGE_3, Total_Rouge))\n",
    "    \n",
    "    return round(Total_Rouge / (weight_1 + weight_2 + weight_3), 2)  # 최대값이 3인데 1로 normalize 하기 위해\n"
   ]
  },
  {
   "cell_type": "code",
   "execution_count": 180,
   "metadata": {},
   "outputs": [
    {
     "name": "stdout",
     "output_type": "stream",
     "text": [
      "ROUGE_1/2/3/Total : 1.00 / 1.00 / 1.00 / 3.00\n",
      "ROUGE_1/2/3/Total : 0.07 / 0.00 / 0.00 / 0.07\n",
      "ROUGE_1/2/3/Total : 0.11 / 0.00 / 0.00 / 0.11\n",
      "ROUGE_1/2/3/Total : 0.45 / 0.10 / 0.00 / 0.55\n",
      "ROUGE_1/2/3/Total : 0.55 / 0.30 / 0.22 / 1.07\n",
      "ROUGE_1/2/3/Total : 0.30 / 0.11 / 0.00 / 0.41\n",
      "ROUGE_1/2/3/Total : 0.00 / 0.00 / 0.00 / 0.00\n",
      "ROUGE_1/2/3/Total : 0.00 / 0.00 / 0.00 / 0.00\n",
      "ROUGE_1/2/3/Total : 0.09 / 0.00 / 0.00 / 0.09\n",
      "ROUGE_1/2/3/Total : 0.00 / 0.00 / 0.00 / 0.00\n",
      "ROUGE_1/2/3/Total : 0.12 / 0.00 / 0.00 / 0.12\n",
      "ROUGE_1/2/3/Total : 0.07 / 0.00 / 0.00 / 0.07\n",
      "ROUGE_1/2/3/Total : 1.00 / 1.00 / 1.00 / 3.00\n",
      "ROUGE_1/2/3/Total : 0.23 / 0.08 / 0.00 / 0.31\n",
      "ROUGE_1/2/3/Total : 0.27 / 0.07 / 0.00 / 0.34\n",
      "ROUGE_1/2/3/Total : 0.27 / 0.14 / 0.07 / 0.48\n",
      "ROUGE_1/2/3/Total : 0.07 / 0.00 / 0.00 / 0.07\n",
      "ROUGE_1/2/3/Total : 0.17 / 0.09 / 0.00 / 0.25\n",
      "ROUGE_1/2/3/Total : 0.16 / 0.08 / 0.00 / 0.24\n",
      "ROUGE_1/2/3/Total : 0.19 / 0.07 / 0.00 / 0.26\n",
      "ROUGE_1/2/3/Total : 0.16 / 0.08 / 0.00 / 0.24\n",
      "ROUGE_1/2/3/Total : 0.08 / 0.00 / 0.00 / 0.08\n",
      "ROUGE_1/2/3/Total : 0.11 / 0.00 / 0.00 / 0.11\n",
      "ROUGE_1/2/3/Total : 0.23 / 0.08 / 0.00 / 0.31\n",
      "ROUGE_1/2/3/Total : 1.00 / 1.00 / 1.00 / 3.00\n",
      "ROUGE_1/2/3/Total : 0.30 / 0.11 / 0.00 / 0.41\n",
      "ROUGE_1/2/3/Total : 0.40 / 0.22 / 0.12 / 0.75\n",
      "ROUGE_1/2/3/Total : 0.22 / 0.00 / 0.00 / 0.22\n",
      "ROUGE_1/2/3/Total : 0.00 / 0.00 / 0.00 / 0.00\n",
      "ROUGE_1/2/3/Total : 0.00 / 0.00 / 0.00 / 0.00\n",
      "ROUGE_1/2/3/Total : 0.00 / 0.00 / 0.00 / 0.00\n",
      "ROUGE_1/2/3/Total : 0.00 / 0.00 / 0.00 / 0.00\n",
      "ROUGE_1/2/3/Total : 0.00 / 0.00 / 0.00 / 0.00\n",
      "ROUGE_1/2/3/Total : 0.45 / 0.10 / 0.00 / 0.55\n",
      "ROUGE_1/2/3/Total : 0.27 / 0.07 / 0.00 / 0.34\n",
      "ROUGE_1/2/3/Total : 0.30 / 0.11 / 0.00 / 0.41\n",
      "ROUGE_1/2/3/Total : 1.00 / 1.00 / 1.00 / 3.00\n",
      "ROUGE_1/2/3/Total : 0.75 / 0.45 / 0.20 / 1.40\n",
      "ROUGE_1/2/3/Total : 0.45 / 0.30 / 0.11 / 0.87\n",
      "ROUGE_1/2/3/Total : 0.22 / 0.12 / 0.00 / 0.35\n",
      "ROUGE_1/2/3/Total : 0.21 / 0.12 / 0.00 / 0.33\n",
      "ROUGE_1/2/3/Total : 0.24 / 0.17 / 0.10 / 0.51\n",
      "ROUGE_1/2/3/Total : 0.21 / 0.12 / 0.00 / 0.33\n",
      "ROUGE_1/2/3/Total : 0.11 / 0.00 / 0.00 / 0.11\n",
      "ROUGE_1/2/3/Total : 0.55 / 0.30 / 0.22 / 1.07\n",
      "ROUGE_1/2/3/Total : 0.27 / 0.14 / 0.07 / 0.48\n",
      "ROUGE_1/2/3/Total : 0.40 / 0.22 / 0.12 / 0.75\n",
      "ROUGE_1/2/3/Total : 0.75 / 0.45 / 0.20 / 1.40\n",
      "ROUGE_1/2/3/Total : 1.00 / 1.00 / 1.00 / 3.00\n",
      "ROUGE_1/2/3/Total : 0.36 / 0.20 / 0.00 / 0.56\n",
      "ROUGE_1/2/3/Total : 0.22 / 0.12 / 0.00 / 0.35\n",
      "ROUGE_1/2/3/Total : 0.21 / 0.12 / 0.00 / 0.33\n",
      "ROUGE_1/2/3/Total : 0.24 / 0.09 / 0.00 / 0.33\n",
      "ROUGE_1/2/3/Total : 0.21 / 0.12 / 0.00 / 0.33\n",
      "ROUGE_1/2/3/Total : 0.11 / 0.00 / 0.00 / 0.11\n",
      "ROUGE_1/2/3/Total : 0.30 / 0.11 / 0.00 / 0.41\n",
      "ROUGE_1/2/3/Total : 0.07 / 0.00 / 0.00 / 0.07\n",
      "ROUGE_1/2/3/Total : 0.22 / 0.00 / 0.00 / 0.22\n",
      "ROUGE_1/2/3/Total : 0.45 / 0.30 / 0.11 / 0.87\n",
      "ROUGE_1/2/3/Total : 0.36 / 0.20 / 0.00 / 0.56\n",
      "ROUGE_1/2/3/Total : 1.00 / 1.00 / 1.00 / 3.00\n",
      "ROUGE_1/2/3/Total : 0.00 / 0.00 / 0.00 / 0.00\n",
      "ROUGE_1/2/3/Total : 0.00 / 0.00 / 0.00 / 0.00\n",
      "ROUGE_1/2/3/Total : 0.00 / 0.00 / 0.00 / 0.00\n",
      "ROUGE_1/2/3/Total : 0.00 / 0.00 / 0.00 / 0.00\n",
      "ROUGE_1/2/3/Total : 0.00 / 0.00 / 0.00 / 0.00\n",
      "ROUGE_1/2/3/Total : 0.00 / 0.00 / 0.00 / 0.00\n",
      "ROUGE_1/2/3/Total : 0.17 / 0.09 / 0.00 / 0.25\n",
      "ROUGE_1/2/3/Total : 0.00 / 0.00 / 0.00 / 0.00\n",
      "ROUGE_1/2/3/Total : 0.22 / 0.12 / 0.00 / 0.35\n",
      "ROUGE_1/2/3/Total : 0.22 / 0.12 / 0.00 / 0.35\n",
      "ROUGE_1/2/3/Total : 0.00 / 0.00 / 0.00 / 0.00\n",
      "ROUGE_1/2/3/Total : 1.00 / 1.00 / 1.00 / 3.00\n",
      "ROUGE_1/2/3/Total : 0.31 / 0.18 / 0.00 / 0.49\n",
      "ROUGE_1/2/3/Total : 0.21 / 0.12 / 0.00 / 0.33\n",
      "ROUGE_1/2/3/Total : 0.31 / 0.18 / 0.00 / 0.49\n",
      "ROUGE_1/2/3/Total : 0.00 / 0.00 / 0.00 / 0.00\n",
      "ROUGE_1/2/3/Total : 0.00 / 0.00 / 0.00 / 0.00\n",
      "ROUGE_1/2/3/Total : 0.16 / 0.08 / 0.00 / 0.24\n",
      "ROUGE_1/2/3/Total : 0.00 / 0.00 / 0.00 / 0.00\n",
      "ROUGE_1/2/3/Total : 0.21 / 0.12 / 0.00 / 0.33\n",
      "ROUGE_1/2/3/Total : 0.21 / 0.12 / 0.00 / 0.33\n",
      "ROUGE_1/2/3/Total : 0.00 / 0.00 / 0.00 / 0.00\n",
      "ROUGE_1/2/3/Total : 0.31 / 0.18 / 0.00 / 0.49\n",
      "ROUGE_1/2/3/Total : 1.00 / 1.00 / 1.00 / 3.00\n",
      "ROUGE_1/2/3/Total : 0.60 / 0.44 / 0.25 / 1.29\n",
      "ROUGE_1/2/3/Total : 1.00 / 1.00 / 1.00 / 3.00\n",
      "ROUGE_1/2/3/Total : 0.43 / 0.33 / 0.20 / 0.96\n",
      "ROUGE_1/2/3/Total : 0.09 / 0.00 / 0.00 / 0.09\n",
      "ROUGE_1/2/3/Total : 0.19 / 0.07 / 0.00 / 0.26\n",
      "ROUGE_1/2/3/Total : 0.00 / 0.00 / 0.00 / 0.00\n",
      "ROUGE_1/2/3/Total : 0.24 / 0.17 / 0.10 / 0.51\n",
      "ROUGE_1/2/3/Total : 0.24 / 0.09 / 0.00 / 0.33\n",
      "ROUGE_1/2/3/Total : 0.00 / 0.00 / 0.00 / 0.00\n",
      "ROUGE_1/2/3/Total : 0.21 / 0.12 / 0.00 / 0.33\n",
      "ROUGE_1/2/3/Total : 0.60 / 0.44 / 0.25 / 1.29\n",
      "ROUGE_1/2/3/Total : 1.00 / 1.00 / 1.00 / 3.00\n",
      "ROUGE_1/2/3/Total : 0.60 / 0.44 / 0.25 / 1.29\n",
      "ROUGE_1/2/3/Total : 0.40 / 0.11 / 0.00 / 0.51\n",
      "ROUGE_1/2/3/Total : 0.00 / 0.00 / 0.00 / 0.00\n",
      "ROUGE_1/2/3/Total : 0.16 / 0.08 / 0.00 / 0.24\n",
      "ROUGE_1/2/3/Total : 0.00 / 0.00 / 0.00 / 0.00\n",
      "ROUGE_1/2/3/Total : 0.21 / 0.12 / 0.00 / 0.33\n",
      "ROUGE_1/2/3/Total : 0.21 / 0.12 / 0.00 / 0.33\n",
      "ROUGE_1/2/3/Total : 0.00 / 0.00 / 0.00 / 0.00\n",
      "ROUGE_1/2/3/Total : 0.31 / 0.18 / 0.00 / 0.49\n",
      "ROUGE_1/2/3/Total : 1.00 / 1.00 / 1.00 / 3.00\n",
      "ROUGE_1/2/3/Total : 0.60 / 0.44 / 0.25 / 1.29\n",
      "ROUGE_1/2/3/Total : 1.00 / 1.00 / 1.00 / 3.00\n",
      "ROUGE_1/2/3/Total : 0.43 / 0.33 / 0.20 / 0.96\n",
      "ROUGE_1/2/3/Total : 0.12 / 0.00 / 0.00 / 0.12\n",
      "ROUGE_1/2/3/Total : 0.08 / 0.00 / 0.00 / 0.08\n",
      "ROUGE_1/2/3/Total : 0.00 / 0.00 / 0.00 / 0.00\n",
      "ROUGE_1/2/3/Total : 0.11 / 0.00 / 0.00 / 0.11\n",
      "ROUGE_1/2/3/Total : 0.11 / 0.00 / 0.00 / 0.11\n",
      "ROUGE_1/2/3/Total : 0.00 / 0.00 / 0.00 / 0.00\n",
      "ROUGE_1/2/3/Total : 0.00 / 0.00 / 0.00 / 0.00\n",
      "ROUGE_1/2/3/Total : 0.43 / 0.33 / 0.20 / 0.96\n",
      "ROUGE_1/2/3/Total : 0.40 / 0.11 / 0.00 / 0.51\n",
      "ROUGE_1/2/3/Total : 0.43 / 0.33 / 0.20 / 0.96\n",
      "ROUGE_1/2/3/Total : 1.00 / 1.00 / 1.00 / 3.00\n"
     ]
    }
   ],
   "source": [
    "## 여러 문장간 ROUGE 값 구하기\n",
    "np.zeros([len(sentences), len(sentences)])\n",
    "for idx_1, sentence_1 in enumerate(sentences):\n",
    "    for idx_2, sentence_2 in enumerate(sentences):\n",
    "        ROUGE = get_rouge(sentence_1, sentence_2)\n",
    "        rouge_matrix[idx_1, idx_2] = ROUGE"
   ]
  },
  {
   "cell_type": "code",
   "execution_count": 182,
   "metadata": {},
   "outputs": [
    {
     "data": {
      "text/plain": [
       "array([[1.  , 0.02, 0.04, 0.18, 0.36, 0.14, 0.  , 0.  , 0.03, 0.  , 0.04,\n",
       "        0.04],\n",
       "       [0.02, 1.  , 0.1 , 0.11, 0.16, 0.02, 0.08, 0.08, 0.09, 0.08, 0.03,\n",
       "        0.03],\n",
       "       [0.04, 0.1 , 1.  , 0.14, 0.25, 0.07, 0.  , 0.  , 0.  , 0.  , 0.  ,\n",
       "        0.  ],\n",
       "       [0.18, 0.11, 0.14, 1.  , 0.47, 0.29, 0.12, 0.11, 0.17, 0.11, 0.04,\n",
       "        0.04],\n",
       "       [0.36, 0.16, 0.25, 0.47, 1.  , 0.19, 0.12, 0.11, 0.11, 0.11, 0.04,\n",
       "        0.04],\n",
       "       [0.14, 0.02, 0.07, 0.29, 0.19, 1.  , 0.  , 0.  , 0.  , 0.  , 0.  ,\n",
       "        0.  ],\n",
       "       [0.  , 0.08, 0.  , 0.12, 0.12, 0.  , 1.  , 0.16, 0.11, 0.16, 0.  ,\n",
       "        0.  ],\n",
       "       [0.  , 0.08, 0.  , 0.11, 0.11, 0.  , 0.16, 1.  , 0.43, 1.  , 0.32,\n",
       "        0.32],\n",
       "       [0.03, 0.09, 0.  , 0.17, 0.11, 0.  , 0.11, 0.43, 1.  , 0.43, 0.17,\n",
       "        0.28],\n",
       "       [0.  , 0.08, 0.  , 0.11, 0.11, 0.  , 0.16, 1.  , 0.43, 1.  , 0.32,\n",
       "        0.17],\n",
       "       [0.04, 0.03, 0.  , 0.04, 0.04, 0.  , 0.  , 0.32, 0.17, 0.32, 1.  ,\n",
       "        0.32],\n",
       "       [0.04, 0.03, 0.  , 0.04, 0.04, 0.  , 0.  , 0.32, 0.28, 0.17, 0.32,\n",
       "        1.  ]])"
      ]
     },
     "execution_count": 182,
     "metadata": {},
     "output_type": "execute_result"
    }
   ],
   "source": [
    "rouge_matrix"
   ]
  },
  {
   "cell_type": "code",
   "execution_count": 183,
   "metadata": {},
   "outputs": [
    {
     "data": {
      "text/plain": [
       "[\"마루웹호스팅, 공격자와 협상에도 데이터 복구 '차질'\",\n",
       " '안랩, 이력서로 위장해 유포되는 넴티 랜섬웨어 주의 당부이번에도 호스팅 업체…잇따른 랜섬웨어 감염',\n",
       " '웹 호스팅 업체 마루인터넷, 랜섬웨어에 감염',\n",
       " '웹호스팅 업체 ‘마루호스팅’ 랜섬웨어 공격 당해... 해커와 협상 중',\n",
       " '웹호스팅 업체 \\'마루인터넷\\', 랜섬웨어 감염…\"공격자와 협상 중\"',\n",
       " '해커와 협상을?\" 웹호스팅 업체 또 해킹에 당했다',\n",
       " '\"마스크 생산기업, 랜섬웨어 걸리면…\"',\n",
       " '코로나19 악용한 랜섬웨어 주의보',\n",
       " 'KISA, \"코로나19\" 악용한 랜섬웨어 공격…\"철저히 대비 해야\"',\n",
       " 'KISA, 코로나19 이슈 악용한 랜섬웨어 공격 대비 보안 강화 당부',\n",
       " '\"코로나19\" 악용한 랜섬웨어 주의보']"
      ]
     },
     "execution_count": 183,
     "metadata": {},
     "output_type": "execute_result"
    }
   ],
   "source": [
    "sentences = ['마루웹호스팅, 공격자와 협상에도 데이터 복구 \\'차질\\'',\n",
    "             '안랩, 이력서로 위장해 유포되는 넴티 랜섬웨어 주의 당부'\n",
    "             '이번에도 호스팅 업체…잇따른 랜섬웨어 감염',\n",
    "             '웹 호스팅 업체 마루인터넷, 랜섬웨어에 감염',\n",
    "             '웹호스팅 업체 ‘마루호스팅’ 랜섬웨어 공격 당해... 해커와 협상 중',\n",
    "             '웹호스팅 업체 \\'마루인터넷\\', 랜섬웨어 감염…\"공격자와 협상 중\"',\n",
    "             '''해커와 협상을?\" 웹호스팅 업체 또 해킹에 당했다''',\n",
    "             '\"마스크 생산기업, 랜섬웨어 걸리면…\"',\n",
    "             '코로나19 악용한 랜섬웨어 주의보',\n",
    "             '''KISA, \"코로나19\" 악용한 랜섬웨어 공격…\"철저히 대비 해야\"''',\n",
    "             'KISA, 코로나19 이슈 악용한 랜섬웨어 공격 대비 보안 강화 당부',\n",
    "             '\"코로나19\" 악용한 랜섬웨어 주의보']\n",
    "sentences"
   ]
  },
  {
   "cell_type": "code",
   "execution_count": 184,
   "metadata": {},
   "outputs": [
    {
     "data": {
      "image/png": "[encoded data removed]",
      "text/plain": [
       "<Figure size 432x432 with 1 Axes>"
      ]
     },
     "metadata": {
      "needs_background": "light"
     },
     "output_type": "display_data"
    }
   ],
   "source": [
    "plt.figure(figsize = (6, 6))\n",
    "plt.pcolor(rouge_matrix,cmap=cm.Oranges)\n",
    "plt.show()"
   ]
  },
  {
   "cell_type": "code",
   "execution_count": 185,
   "metadata": {},
   "outputs": [
    {
     "data": {
      "text/plain": [
       "<BarContainer object of 12 artists>"
      ]
     },
     "execution_count": 185,
     "metadata": {},
     "output_type": "execute_result"
    },
    {
     "data": {
      "image/png": "[encoded data removed]",
      "text/plain": [
       "<Figure size 432x288 with 1 Axes>"
      ]
     },
     "metadata": {
      "needs_background": "light"
     },
     "output_type": "display_data"
    }
   ],
   "source": [
    "plt.bar(np.arange(len(rouge_matrix)), rouge_matrix[8, :])"
   ]
  },
  {
   "cell_type": "code",
   "execution_count": 186,
   "metadata": {},
   "outputs": [
    {
     "data": {
      "text/plain": [
       "<BarContainer object of 12 artists>"
      ]
     },
     "execution_count": 186,
     "metadata": {},
     "output_type": "execute_result"
    },
    {
     "data": {
      "image/png": "[encoded data removed]",
      "text/plain": [
       "<Figure size 432x288 with 1 Axes>"
      ]
     },
     "metadata": {
      "needs_background": "light"
     },
     "output_type": "display_data"
    }
   ],
   "source": [
    "plt.bar(np.arange(len(rouge_matrix)), rouge_matrix[2, :])"
   ]
  },
  {
   "cell_type": "code",
   "execution_count": null,
   "metadata": {},
   "outputs": [],
   "source": []
  },
  {
   "cell_type": "code",
   "execution_count": null,
   "metadata": {},
   "outputs": [],
   "source": []
  },
  {
   "cell_type": "code",
   "execution_count": null,
   "metadata": {},
   "outputs": [],
   "source": []
  },
  {
   "cell_type": "code",
   "execution_count": null,
   "metadata": {},
   "outputs": [],
   "source": []
  },
  {
   "cell_type": "code",
   "execution_count": null,
   "metadata": {},
   "outputs": [],
   "source": []
  }
 ],
 "metadata": {
  "kernelspec": {
   "display_name": "Python 3",
   "language": "python",
   "name": "python3"
  },
  "varInspector": {
   "cols": {
    "lenName": 16,
    "lenType": 16,
    "lenVar": 40
   },
   "kernels_config": {
    "python": {
     "delete_cmd_postfix": "",
     "delete_cmd_prefix": "del ",
     "library": "var_list.py",
     "varRefreshCmd": "print(var_dic_list())"
    },
    "r": {
     "delete_cmd_postfix": ") ",
     "delete_cmd_prefix": "rm(",
     "library": "var_list.r",
     "varRefreshCmd": "cat(var_dic_list()) "
    }
   },
   "types_to_exclude": [
    "module",
    "function",
    "builtin_function_or_method",
    "instance",
    "_Feature"
   ],
   "window_display": false
  }
 },
 "nbformat": 4,
 "nbformat_minor": 2
}
