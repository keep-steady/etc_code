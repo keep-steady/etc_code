{
 "cells": [
  {
   "cell_type": "markdown",
   "metadata": {},
   "source": [
    "# Secbert를 위한 데이터 준비 & 크롤링\n",
    "190715"
   ]
  },
  {
   "cell_type": "raw",
   "metadata": {},
   "source": [
    "2015년부터 ,archive에서 security 관련된 모든 논문(만개)들의\n",
    "title, abstract를 모아서\n",
    "\n",
    "<<doc>>\n",
    "title\n",
    "abstract\n",
    "\n",
    "형태로 저장한다\n",
    "\n",
    "https://github.com/aisolab/simple_examples_for_text_mining/blob/master/Scrapping%20text%20mining%20papers%20in%20arXiv.py"
   ]
  },
  {
   "cell_type": "code",
   "execution_count": 1,
   "metadata": {},
   "outputs": [],
   "source": [
    "import requests\n",
    "import pandas as pd\n",
    "import re\n",
    "import time\n",
    "from bs4 import BeautifulSoup\n",
    "import string\n",
    "import datetime\n",
    "from datetime import datetime"
   ]
  },
  {
   "cell_type": "code",
   "execution_count": 2,
   "metadata": {},
   "outputs": [],
   "source": [
    "save_output = 'security_archive_paper_39.txt'"
   ]
  },
  {
   "cell_type": "code",
   "execution_count": 3,
   "metadata": {},
   "outputs": [],
   "source": [
    "# URL 작성\n",
    "base_url = 'https://arxiv.org/search/advanced?advanced=&terms-0-operator=AND&terms-0-term=security&terms-0-field=all&classification-computer_science=y&classification-eess=y&classification-physics_archives=all&classification-include_cross_list=include&date-year=&date-filter_by=date_range&date-from_date=2015&date-to_date=&date-date_type=submitted_date&abstracts=hide&size=50&order=-announced_date_first'\n",
    "# 페이지 넘어가며 뒤에 붙는 주소\n",
    "url_list = ['']\n",
    "temp = list(range(50, 10000, 50))  # '', '&start=50', '&start=100', ...8950 -> 총 10,106개\n",
    "for i in temp: url_list.append('&start={}'.format(i))"
   ]
  },
  {
   "cell_type": "code",
   "execution_count": 4,
   "metadata": {},
   "outputs": [],
   "source": [
    "def printable_text_true(text):\n",
    "    # printable 하면 False\n",
    "    # 이상한게 있으면 True\n",
    "    not_printable = 0\n",
    "    for char in text:\n",
    "        if char not in string.printable:\n",
    "            not_printable += 1\n",
    "    if not_printable == 0:\n",
    "        return False\n",
    "    else:\n",
    "        return True"
   ]
  },
  {
   "cell_type": "code",
   "execution_count": null,
   "metadata": {
    "scrolled": true
   },
   "outputs": [
    {
     "name": "stdout",
     "output_type": "stream",
     "text": [
      "39 / 200 - 0 / 0, 2019-07-15 17:48:27\n",
      "40 / 200 - 43 / 7, 2019-07-15 17:49:14\n",
      "41 / 200 - 90 / 10, 2019-07-15 17:50:03\n"
     ]
    }
   ],
   "source": [
    "file = open(save_output, 'w', encoding='UTF8')\n",
    "\n",
    "start = time.clock()\n",
    "count_doc, count_pass = 0, 0\n",
    "for i in range(39, len(url_list)):\n",
    "    print('%d / %d - %d / %d, %.19s' %(i, len(url_list), count_doc, count_pass, datetime.now()))\n",
    "    \n",
    "    tmp_url = base_url + url_list[i]  # 페이지 넘어가는 url 만듬\n",
    "    \n",
    "    ## 막히는 경우 예외처리\n",
    "    tmp_response = ''\n",
    "    while tmp_response == '':\n",
    "        try:\n",
    "            tmp_response = requests.get(tmp_url)\n",
    "            break\n",
    "        except:\n",
    "            print(\"Connection refused, wait 5 sec\")\n",
    "            time.sleep(5)\n",
    "            continue            \n",
    "    \n",
    "    tmp_bs = BeautifulSoup(tmp_response.text, 'html.parser')\n",
    "    tmp_contents = tmp_bs.select('li.arxiv-result')\n",
    "    tmp_list = [tmp_href.select_one('a').attrs.get('href') for tmp_href in tmp_contents]\n",
    "\n",
    "    # ['https://arxiv.org/abs/1906.11488',\n",
    "    #  'https://arxiv.org/abs/1906.11465', ...]\n",
    "\n",
    "    for j, tmp_paper in enumerate(tmp_list):\n",
    "        # tmp_paper : archive 주소!\n",
    "        tmp_response_paper = requests.get(tmp_paper)  # <Response [200]>\n",
    "        tmp_bs_paper = BeautifulSoup(tmp_response_paper.text, 'html.parser')\n",
    "\n",
    "        title = re.sub('\\\\s+',\n",
    "                         ' ',\n",
    "                         tmp_bs_paper.select_one('h1.title.mathjax').text.replace('Title:', ''))\n",
    "        abstract = tmp_bs_paper.select_one('blockquote.abstract.mathjax').text.replace('Abstract:  ', '').replace('\\n', ' ')\n",
    "\n",
    "        if '$' in abstract or '$' in title or printable_text_true(title) or printable_text_true(abstract):\n",
    "            count_pass += 1\n",
    "            pass\n",
    "        # 다 printable 하면\n",
    "        else:\n",
    "            # 영어, 숫자, () 빼고 다 삭제\n",
    "            title = re.sub('[^a-zA-Z1-9()% ]', '', title)\n",
    "            abstract = re.sub('[^a-zA-Z1-9()% ]', '', abstract)\n",
    "            \n",
    "            file.write(\"<<doc>>\\n\")\n",
    "            file.write(title+'\\n')\n",
    "            file.write(abstract+'\\n\\n')\n",
    "            count_doc += 1\n",
    "\n",
    "end = time.clock()\n",
    "print('%d sec'%end - start)\n",
    "print(count_doc)\n"
   ]
  },
  {
   "cell_type": "code",
   "execution_count": null,
   "metadata": {},
   "outputs": [],
   "source": []
  },
  {
   "cell_type": "code",
   "execution_count": null,
   "metadata": {},
   "outputs": [],
   "source": []
  },
  {
   "cell_type": "code",
   "execution_count": null,
   "metadata": {},
   "outputs": [],
   "source": []
  },
  {
   "cell_type": "code",
   "execution_count": null,
   "metadata": {},
   "outputs": [],
   "source": []
  },
  {
   "cell_type": "code",
   "execution_count": null,
   "metadata": {},
   "outputs": [],
   "source": []
  },
  {
   "cell_type": "code",
   "execution_count": null,
   "metadata": {},
   "outputs": [],
   "source": []
  }
 ],
 "metadata": {
  "kernelspec": {
   "display_name": "Python 3",
   "language": "python",
   "name": "python3"
  },
  "language_info": {
   "codemirror_mode": {
    "name": "ipython",
    "version": 3
   },
   "file_extension": ".py",
   "mimetype": "text/x-python",
   "name": "python",
   "nbconvert_exporter": "python",
   "pygments_lexer": "ipython3",
   "version": "3.5.5"
  },
  "widgets": {
   "state": {},
   "version": "1.1.2"
  }
 },
 "nbformat": 4,
 "nbformat_minor": 2
}
