{
 "cells": [
  {
   "cell_type": "markdown",
   "metadata": {},
   "source": [
    "# Pytorch 시각화를 위한 tensorboardX 사용법\n",
    "\n",
    "190509, keep-steady\n",
    "\n",
    "https://github.com/lanpa/tensorboardX"
   ]
  },
  {
   "cell_type": "code",
   "execution_count": 1,
   "metadata": {},
   "outputs": [
    {
     "name": "stdout",
     "output_type": "stream",
     "text": [
      "Requirement already satisfied: tensorboardX in /home/go/anaconda3/envs/venv/lib/python3.6/site-packages (1.6)\n",
      "Requirement already satisfied: protobuf>=3.2.0 in /home/go/.local/lib/python3.6/site-packages (from tensorboardX) (3.6.1)\n",
      "Requirement already satisfied: numpy in /home/go/.local/lib/python3.6/site-packages (from tensorboardX) (1.15.4)\n",
      "Requirement already satisfied: six in /home/go/.local/lib/python3.6/site-packages (from tensorboardX) (1.11.0)\n",
      "Requirement already satisfied: setuptools in /home/go/anaconda3/envs/venv/lib/python3.6/site-packages (from protobuf>=3.2.0->tensorboardX) (40.5.0)\n",
      "\u001b[33mYou are using pip version 18.1, however version 19.1.1 is available.\n",
      "You should consider upgrading via the 'pip install --upgrade pip' command.\u001b[0m\n"
     ]
    }
   ],
   "source": [
    "# 설치\n",
    "# tensorflow가 설치되어 있어야 한다\n",
    "!pip install tensorboardX"
   ]
  },
  {
   "cell_type": "code",
   "execution_count": null,
   "metadata": {},
   "outputs": [],
   "source": [
    "# 서버 사용시 터미널창에 아래 명령어 입력\n",
    "> tensorboard --logdir runs"
   ]
  },
  {
   "cell_type": "code",
   "execution_count": 4,
   "metadata": {},
   "outputs": [],
   "source": [
    "# demo.py\n",
    "\n",
    "import torch\n",
    "import torchvision.utils as vutils\n",
    "import numpy as np\n",
    "import torchvision.models as models\n",
    "from torchvision import datasets\n",
    "from tensorboardX import SummaryWriter\n",
    "\n",
    "resnet18 = models.resnet18(False)\n",
    "writer = SummaryWriter()\n",
    "sample_rate = 44100\n",
    "freqs = [262, 294, 330, 349, 392, 440, 440, 440, 440, 440, 440]\n",
    "\n",
    "for n_iter in range(100):\n",
    "\n",
    "    dummy_s1 = torch.rand(1)\n",
    "    dummy_s2 = torch.rand(1)\n",
    "    # data grouping by `slash`\n",
    "    writer.add_scalar('loss/L1_loss', dummy_s1[0], n_iter)\n",
    "    \n",
    "    writer.add_scalars('loss/L1+L2_loss', {'xsinx': n_iter * np.sin(n_iter),\n",
    "                                             'xcosx': n_iter * np.cos(n_iter)}, n_iter)\n",
    "\n",
    "    dummy_img = torch.rand(32, 3, 64, 64)  # output from network\n",
    "    if n_iter % 10 == 0:\n",
    "        x = vutils.make_grid(dummy_img, normalize=True, scale_each=True)\n",
    "        writer.add_image('Image', x, n_iter)\n",
    "\n",
    "        dummy_audio = torch.zeros(sample_rate * 2)\n",
    "        for i in range(x.size(0)):\n",
    "            # amplitude of sound should in [-1, 1]\n",
    "            dummy_audio[i] = np.cos(freqs[n_iter // 10] * np.pi * float(i) / float(sample_rate))\n",
    "        writer.add_audio('myAudio', dummy_audio, n_iter, sample_rate=sample_rate)\n",
    "\n",
    "        writer.add_text('Text', 'text logged at step:' + str(n_iter), n_iter)\n",
    "\n",
    "        for name, param in resnet18.named_parameters():\n",
    "            writer.add_histogram(name, param.clone().cpu().data.numpy(), n_iter)\n",
    "\n",
    "        # needs tensorboard 0.4RC or later\n",
    "        writer.add_pr_curve('xoxo', np.random.randint(2, size=100), np.random.rand(100), n_iter)\n",
    "\n",
    "dataset = datasets.MNIST('mnist', train=False, download=False)\n",
    "images  = dataset.test_data[:100].float()\n",
    "label   = dataset.test_labels[:100]\n",
    "\n",
    "features = images.view(100, 784)\n",
    "writer.add_embedding(features, metadata=label, label_img=images.unsqueeze(1))\n",
    "\n",
    "# export scalar data to JSON for external processing\n",
    "writer.export_scalars_to_json(\"./all_scalars.json\")\n",
    "writer.close()"
   ]
  },
  {
   "cell_type": "code",
   "execution_count": 26,
   "metadata": {},
   "outputs": [],
   "source": [
    "writer = SummaryWriter()\n",
    "\n",
    "x = torch.rand(3, 64, 64)  # output from network\n",
    "writer.add_image('testt/torch_image', x, n_iter)\n",
    "\n",
    "x = np.zeros((3, 64, 64))  # output from network\n",
    "writer.add_image('testt/numpy_image', x, n_iter)\n",
    "\n",
    "x = torch.rand(10, 3, 64, 64)  # output from network\n",
    "x = vutils.make_grid(x, normalize=True, scale_each=True)\n",
    "writer.add_image('testt/bulk_image', x, n_iter)"
   ]
  },
  {
   "cell_type": "code",
   "execution_count": 3,
   "metadata": {},
   "outputs": [],
   "source": [
    "from numpy.random import rand\n",
    "from tensorboardX import SummaryWriter\n",
    "import time\n",
    "\n",
    "\n",
    "with SummaryWriter() as writer:\n",
    "    for n_iter in range(100):\n",
    "        writer.add_scalar('twse/0050', rand(), n_iter)\n",
    "        writer.add_scalar('twse/2330', rand(), n_iter)\n",
    "        t = rand()\n",
    "        writer.add_scalar('dow/aaa', t, n_iter)\n",
    "        writer.add_scalar('dow/bbb', t - 1, n_iter)\n",
    "        writer.add_scalar('dow/ccc', t + 1, n_iter)\n",
    "        writer.add_scalar('nasdaq/aaa', rand(), n_iter)\n",
    "        writer.add_scalar('nasdaq/bbb', rand(), n_iter)\n",
    "        writer.add_scalar('nasdaq/ccc', rand(), n_iter)\n",
    "\n",
    "    layout = {'Taiwan': {'twse': ['Multiline', ['twse/0050', 'twse/2330']]},\n",
    "              'USA': {'dow': ['Margin', ['dow/aaa', 'dow/bbb', 'dow/ccc']],\n",
    "                      'nasdaq': ['Margin', ['nasdaq/aaa', 'nasdaq/bbb', 'nasdaq/ccc']]}}\n",
    "    writer.add_custom_scalars(layout)\n",
    "#    writer.add_custom_scalars(layout) second call has no effect\n",
    "\n",
    "time.sleep(1)\n",
    "\n",
    "with SummaryWriter() as writer:\n",
    "    for n_iter in range(100):\n",
    "        writer.add_scalar('twse/0050', rand(), n_iter)\n",
    "        writer.add_scalar('twse/2330', rand(), n_iter)\n",
    "\n",
    "    writer.add_custom_scalars_multilinechart(['twse/0050', 'twse/2330'])\n",
    "\n",
    "time.sleep(1)\n",
    "\n",
    "with SummaryWriter() as writer:\n",
    "    for n_iter in range(100):\n",
    "        t = rand()\n",
    "        writer.add_scalar('dow/aaa', t, n_iter)\n",
    "        writer.add_scalar('dow/bbb', t - 1, n_iter)\n",
    "        writer.add_scalar('dow/ccc', t + 1, n_iter)\n",
    "\n",
    "    writer.add_custom_scalars_marginchart(['dow/aaa', 'dow/bbb', 'dow/ccc'])"
   ]
  },
  {
   "cell_type": "code",
   "execution_count": null,
   "metadata": {},
   "outputs": [],
   "source": []
  },
  {
   "cell_type": "code",
   "execution_count": null,
   "metadata": {},
   "outputs": [],
   "source": []
  },
  {
   "cell_type": "code",
   "execution_count": null,
   "metadata": {},
   "outputs": [],
   "source": []
  }
 ],
 "metadata": {
  "hide_input": false,
  "kernelspec": {
   "display_name": "Python 3",
   "language": "python",
   "name": "python3"
  },
  "language_info": {
   "codemirror_mode": {
    "name": "ipython",
    "version": 3
   },
   "file_extension": ".py",
   "mimetype": "text/x-python",
   "name": "python",
   "nbconvert_exporter": "python",
   "pygments_lexer": "ipython3",
   "version": "3.6.7"
  },
  "toc": {
   "base_numbering": 1,
   "nav_menu": {},
   "number_sections": true,
   "sideBar": true,
   "skip_h1_title": false,
   "title_cell": "Table of Contents",
   "title_sidebar": "Contents",
   "toc_cell": false,
   "toc_position": {},
   "toc_section_display": true,
   "toc_window_display": false
  }
 },
 "nbformat": 4,
 "nbformat_minor": 2
}
