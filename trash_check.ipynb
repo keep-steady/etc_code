{
 "cells": [
  {
   "cell_type": "markdown",
   "metadata": {},
   "source": [
    "# 폴더 안에서 .pdf or .html 파일이 있는지 없는지 체크"
   ]
  },
  {
   "cell_type": "code",
   "execution_count": 1,
   "metadata": {},
   "outputs": [],
   "source": [
    "# 빈 파일 체크\n",
    "import os\n",
    "import re\n",
    "import glob"
   ]
  },
  {
   "cell_type": "code",
   "execution_count": 14,
   "metadata": {},
   "outputs": [],
   "source": [
    "# file_format = '*.html'\n",
    "file_format = '*.pdf'"
   ]
  },
  {
   "cell_type": "code",
   "execution_count": 19,
   "metadata": {},
   "outputs": [
    {
     "name": "stdout",
     "output_type": "stream",
     "text": [
      ".ipynb_checkpoints\n",
      "17ffd222-86bf-4f06-9adb-d89f8dcfd7e3_2019-08-21\n",
      "2736e557-e946-47b0-9ada-ccaceeb15537_2019-06-26\n",
      "522e4bd0-0705-4e49-9b7a-d781c9c10658_2019-06-19\n",
      "805335f4-7df1-4726-807a-9d10e522f770_2018-11-08\n",
      "82ed9471-ad4a-44c6-829d-c2ec36f25705_2019-08-15\n",
      "8ca2c053-fc4a-4449-af08-a26ee4113158_2018-09-28\n",
      "8efa87ba-13d9-481f-a4aa-c75e6b1a6aec_2018-12-11\n",
      "a26554d3-e135-4eec-a772-d54fad9c2325_2018-05-10\n",
      "d338959d-4cda-47c5-a990-457cbcdbf7e4_2019-09-02\n",
      "Untitled.ipynb\n"
     ]
    }
   ],
   "source": [
    "for folder_name in os.listdir('.'):\n",
    "    # 폴더 안의 html 파일만 검색\n",
    "    file_path = glob.glob(os.path.join(folder_name, file_format))\n",
    "    if len(file_path) != 1:\n",
    "        print(folder_name)\n",
    "    else:\n",
    "        pass"
   ]
  },
  {
   "cell_type": "code",
   "execution_count": null,
   "metadata": {},
   "outputs": [],
   "source": []
  },
  {
   "cell_type": "code",
   "execution_count": null,
   "metadata": {},
   "outputs": [],
   "source": []
  },
  {
   "cell_type": "code",
   "execution_count": null,
   "metadata": {},
   "outputs": [],
   "source": []
  },
  {
   "cell_type": "code",
   "execution_count": null,
   "metadata": {},
   "outputs": [],
   "source": []
  },
  {
   "cell_type": "code",
   "execution_count": null,
   "metadata": {},
   "outputs": [],
   "source": []
  }
 ],
 "metadata": {
  "kernelspec": {
   "display_name": "Python 3",
   "language": "python",
   "name": "python3"
  },
  "language_info": {
   "codemirror_mode": {
    "name": "ipython",
    "version": 3
   },
   "file_extension": ".py",
   "mimetype": "text/x-python",
   "name": "python",
   "nbconvert_exporter": "python",
   "pygments_lexer": "ipython3",
   "version": "3.6.8"
  }
 },
 "nbformat": 4,
 "nbformat_minor": 2
}
